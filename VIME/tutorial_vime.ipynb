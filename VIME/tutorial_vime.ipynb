{
 "cells": [
  {
   "cell_type": "markdown",
   "metadata": {},
   "source": [
    "# VIME Tutorial\n",
    "\n",
    "### VIME: Extending the Success of Self- and Semi-supervised Learning to Tabular Domain\n",
    "\n",
    "- Paper: Jinsung Yoon, Yao Zhang, James Jordon, Mihaela van der Schaar, \n",
    "  \"VIME: Extending the Success of Self- and Semi-supervised Learning to Tabular Domain,\" \n",
    "  Neural Information Processing Systems (NeurIPS), 2020.\n",
    "\n",
    "- Paper link: TBD\n",
    "\n",
    "- Last updated Date: October 11th 2020\n",
    "\n",
    "- Code author: Jinsung Yoon (jsyoon0823@gmail.com)\n",
    "\n",
    "This notebook describes the user-guide of self- and semi-supervised learning for tabular domain using MNIST database."
   ]
  },
  {
   "cell_type": "markdown",
   "metadata": {},
   "source": [
    "### Prerequisite\n",
    "Clone https://github.com/jsyoon0823/VIME.git to the current directory."
   ]
  },
  {
   "cell_type": "markdown",
   "metadata": {},
   "source": [
    "### Necessary packages and functions call\n",
    "\n",
    "- data_loader: MNIST dataset loading and preprocessing\n",
    "- supervised_models: supervised learning models (Logistic regression, XGBoost, and Multi-layer Perceptron)\n",
    "\n",
    "- vime_self: Self-supervised learning part of VIME framework\n",
    "- vime_semi: Semi-supervised learning part of VIME framework\n",
    "- vime_utils: Some utility functions for VIME framework"
   ]
  },
  {
   "cell_type": "code",
   "execution_count": 1,
   "metadata": {},
   "outputs": [],
   "source": [
    "import numpy as np\n",
    "import os\n",
    "import warnings\n",
    "warnings.filterwarnings(\"ignore\")\n",
    "  \n",
    "from data_loader import load_mnist_data\n",
    "from supervised_models import logit, xgb_model, mlp\n",
    "\n",
    "from vime_self import vime_self\n",
    "from vime_semi import vime_semi\n",
    "from vime_utils import perf_metric"
   ]
  },
  {
   "cell_type": "markdown",
   "metadata": {},
   "source": [
    "### Set the parameters and define output\n",
    "\n",
    "-   label_no: Number of labeled data to be used\n",
    "-   model_sets: supervised model set (mlp, logit, or xgboost)\n",
    "-   p_m: corruption probability for self-supervised learning\n",
    "-   alpha: hyper-parameter to control the weights of feature and mask losses\n",
    "-   K: number of augmented samples\n",
    "-   beta: hyperparameter to control supervised and unsupervised loss\n",
    "-   label_data_rate: ratio of labeled data\n",
    "-   metric: prediction performance metric (either acc or auc)"
   ]
  },
  {
   "cell_type": "code",
   "execution_count": 2,
   "metadata": {},
   "outputs": [],
   "source": [
    "# Experimental parameters\n",
    "label_no = 1000  \n",
    "model_sets = ['logit','xgboost','mlp']\n",
    "  \n",
    "# Hyper-parameters\n",
    "p_m = 0.3\n",
    "alpha = 2.0\n",
    "K = 3\n",
    "beta = 1.0\n",
    "label_data_rate = 0.1\n",
    "\n",
    "# Metric\n",
    "metric = 'acc'\n",
    "  \n",
    "# Define output\n",
    "results = np.zeros([len(model_sets)+2])  "
   ]
  },
  {
   "cell_type": "markdown",
   "metadata": {},
   "source": [
    "### Load data\n",
    "\n",
    "Load original MNIST dataset and preprocess the loaded data.\n",
    "- Only select the subset of data as the labeled data"
   ]
  },
  {
   "cell_type": "code",
   "execution_count": 3,
   "metadata": {},
   "outputs": [],
   "source": [
    "# Load data\n",
    "x_train, y_train, x_unlab, x_test, y_test = load_mnist_data(label_data_rate)\n",
    "    \n",
    "# Use subset of labeled data\n",
    "x_train = x_train[:label_no, :]\n",
    "y_train = y_train[:label_no, :]  "
   ]
  },
  {
   "cell_type": "markdown",
   "metadata": {},
   "source": [
    "### Train supervised models\n",
    "\n",
    "- Train 3 supervised learning models (Logistic regression, XGBoost, MLP)\n",
    "- Save the performances of each supervised model."
   ]
  },
  {
   "cell_type": "code",
   "execution_count": 4,
   "metadata": {},
   "outputs": [
    {
     "name": "stdout",
     "output_type": "stream",
     "text": [
      "[18:12:16] WARNING: ../src/learner.cc:1115: Starting in XGBoost 1.3.0, the default evaluation metric used with the objective 'multi:softprob' was changed from 'merror' to 'mlogloss'. Explicitly set eval_metric if you'd like to restore the old behavior.\n",
      "WARNING:tensorflow:From /home/roytsai/.pyenv/versions/vime/lib/python3.7/site-packages/tensorflow_core/python/ops/resource_variable_ops.py:1630: calling BaseResourceVariable.__init__ (from tensorflow.python.ops.resource_variable_ops) with constraint is deprecated and will be removed in a future version.\n",
      "Instructions for updating:\n",
      "If using Keras pass *_constraint arguments to layers.\n"
     ]
    },
    {
     "name": "stderr",
     "output_type": "stream",
     "text": [
      "2022-01-25 18:12:18.724161: I tensorflow/stream_executor/platform/default/dso_loader.cc:44] Successfully opened dynamic library libcuda.so.1\n",
      "2022-01-25 18:12:18.724309: I tensorflow/stream_executor/cuda/cuda_gpu_executor.cc:983] successful NUMA node read from SysFS had negative value (-1), but there must be at least one NUMA node, so returning NUMA node zero\n",
      "2022-01-25 18:12:18.724701: I tensorflow/core/common_runtime/gpu/gpu_device.cc:1618] Found device 0 with properties: \n",
      "name: NVIDIA GeForce RTX 2070 SUPER major: 7 minor: 5 memoryClockRate(GHz): 1.83\n",
      "pciBusID: 0000:01:00.0\n",
      "2022-01-25 18:12:18.724744: I tensorflow/stream_executor/cuda/cuda_gpu_executor.cc:983] successful NUMA node read from SysFS had negative value (-1), but there must be at least one NUMA node, so returning NUMA node zero\n",
      "2022-01-25 18:12:18.725271: I tensorflow/core/common_runtime/gpu/gpu_device.cc:1618] Found device 1 with properties: \n",
      "name: NVIDIA GeForce GTX 1060 6GB major: 6 minor: 1 memoryClockRate(GHz): 1.7465\n",
      "pciBusID: 0000:02:00.0\n",
      "2022-01-25 18:12:18.725332: W tensorflow/stream_executor/platform/default/dso_loader.cc:55] Could not load dynamic library 'libcudart.so.10.0'; dlerror: libcudart.so.10.0: cannot open shared object file: No such file or directory\n",
      "2022-01-25 18:12:18.725977: I tensorflow/stream_executor/platform/default/dso_loader.cc:44] Successfully opened dynamic library libcublas.so.10.0\n",
      "2022-01-25 18:12:18.726022: W tensorflow/stream_executor/platform/default/dso_loader.cc:55] Could not load dynamic library 'libcufft.so.10.0'; dlerror: libcufft.so.10.0: cannot open shared object file: No such file or directory\n",
      "2022-01-25 18:12:18.726061: W tensorflow/stream_executor/platform/default/dso_loader.cc:55] Could not load dynamic library 'libcurand.so.10.0'; dlerror: libcurand.so.10.0: cannot open shared object file: No such file or directory\n",
      "2022-01-25 18:12:18.726098: W tensorflow/stream_executor/platform/default/dso_loader.cc:55] Could not load dynamic library 'libcusolver.so.10.0'; dlerror: libcusolver.so.10.0: cannot open shared object file: No such file or directory\n",
      "2022-01-25 18:12:18.726135: W tensorflow/stream_executor/platform/default/dso_loader.cc:55] Could not load dynamic library 'libcusparse.so.10.0'; dlerror: libcusparse.so.10.0: cannot open shared object file: No such file or directory\n",
      "2022-01-25 18:12:18.727931: I tensorflow/stream_executor/platform/default/dso_loader.cc:44] Successfully opened dynamic library libcudnn.so.7\n",
      "2022-01-25 18:12:18.727940: W tensorflow/core/common_runtime/gpu/gpu_device.cc:1641] Cannot dlopen some GPU libraries. Please make sure the missing libraries mentioned above are installed properly if you would like to use GPU. Follow the guide at https://www.tensorflow.org/install/gpu for how to download and setup the required libraries for your platform.\n",
      "Skipping registering GPU devices...\n",
      "2022-01-25 18:12:18.728140: I tensorflow/core/platform/cpu_feature_guard.cc:142] Your CPU supports instructions that this TensorFlow binary was not compiled to use: AVX2 FMA\n",
      "2022-01-25 18:12:18.748449: I tensorflow/core/platform/profile_utils/cpu_utils.cc:94] CPU Frequency: 3199980000 Hz\n",
      "2022-01-25 18:12:18.748797: I tensorflow/compiler/xla/service/service.cc:168] XLA service 0x562e705f2ba0 initialized for platform Host (this does not guarantee that XLA will be used). Devices:\n",
      "2022-01-25 18:12:18.748807: I tensorflow/compiler/xla/service/service.cc:176]   StreamExecutor device (0): Host, Default Version\n",
      "2022-01-25 18:12:18.847659: I tensorflow/stream_executor/cuda/cuda_gpu_executor.cc:983] successful NUMA node read from SysFS had negative value (-1), but there must be at least one NUMA node, so returning NUMA node zero\n",
      "2022-01-25 18:12:18.862892: I tensorflow/stream_executor/cuda/cuda_gpu_executor.cc:983] successful NUMA node read from SysFS had negative value (-1), but there must be at least one NUMA node, so returning NUMA node zero\n",
      "2022-01-25 18:12:18.863379: I tensorflow/compiler/xla/service/service.cc:168] XLA service 0x562e6ff845e0 initialized for platform CUDA (this does not guarantee that XLA will be used). Devices:\n",
      "2022-01-25 18:12:18.863392: I tensorflow/compiler/xla/service/service.cc:176]   StreamExecutor device (0): NVIDIA GeForce RTX 2070 SUPER, Compute Capability 7.5\n",
      "2022-01-25 18:12:18.863397: I tensorflow/compiler/xla/service/service.cc:176]   StreamExecutor device (1): NVIDIA GeForce GTX 1060 6GB, Compute Capability 6.1\n",
      "2022-01-25 18:12:18.863511: I tensorflow/core/common_runtime/gpu/gpu_device.cc:1159] Device interconnect StreamExecutor with strength 1 edge matrix:\n",
      "2022-01-25 18:12:18.863518: I tensorflow/core/common_runtime/gpu/gpu_device.cc:1165]      \n"
     ]
    },
    {
     "name": "stdout",
     "output_type": "stream",
     "text": [
      "Restoring model weights from the end of the best epoch.\n",
      "Epoch 00072: early stopping\n",
      "Supervised Performance, Model Name: logit, Performance: 0.8738\n",
      "Supervised Performance, Model Name: xgboost, Performance: 0.8826\n",
      "Supervised Performance, Model Name: mlp, Performance: 0.8994\n"
     ]
    }
   ],
   "source": [
    "# Logistic regression\n",
    "y_test_hat = logit(x_train, y_train, x_test)\n",
    "results[0] = perf_metric(metric, y_test, y_test_hat) \n",
    "\n",
    "# XGBoost\n",
    "y_test_hat = xgb_model(x_train, y_train, x_test)    \n",
    "results[1] = perf_metric(metric, y_test, y_test_hat)   \n",
    "\n",
    "# MLP\n",
    "mlp_parameters = dict()\n",
    "mlp_parameters['hidden_dim'] = 100\n",
    "mlp_parameters['epochs'] = 100\n",
    "mlp_parameters['activation'] = 'relu'\n",
    "mlp_parameters['batch_size'] = 100\n",
    "      \n",
    "y_test_hat = mlp(x_train, y_train, x_test, mlp_parameters)\n",
    "results[2] = perf_metric(metric, y_test, y_test_hat)\n",
    "\n",
    "# Report performance\n",
    "for m_it in range(len(model_sets)):  \n",
    "    \n",
    "  model_name = model_sets[m_it]  \n",
    "    \n",
    "  print('Supervised Performance, Model Name: ' + model_name + \n",
    "        ', Performance: ' + str(results[m_it]))"
   ]
  },
  {
   "cell_type": "markdown",
   "metadata": {},
   "source": [
    "### Train & Test VIME-Self\n",
    "Train self-supervised part of VIME framework only\n",
    "- Check the performance of self-supervised part of VIME framework."
   ]
  },
  {
   "cell_type": "code",
   "execution_count": 5,
   "metadata": {},
   "outputs": [
    {
     "name": "stdout",
     "output_type": "stream",
     "text": [
      "WARNING:tensorflow:From /home/roytsai/.pyenv/versions/vime/lib/python3.7/site-packages/tensorflow_core/python/ops/nn_impl.py:183: where (from tensorflow.python.ops.array_ops) is deprecated and will be removed in a future version.\n",
      "Instructions for updating:\n",
      "Use tf.where in 2.0, which has the same broadcast rule as np.where\n",
      "Train on 54000 samples\n",
      "Epoch 1/10\n",
      "54000/54000 [==============================] - 4s 69us/sample - loss: 0.2790 - mask_loss: 0.2266 - feature_loss: 0.0262\n",
      "Epoch 2/10\n",
      "54000/54000 [==============================] - 4s 67us/sample - loss: 0.2439 - mask_loss: 0.2166 - feature_loss: 0.0137\n",
      "Epoch 3/10\n",
      "54000/54000 [==============================] - 4s 67us/sample - loss: 0.2359 - mask_loss: 0.2125 - feature_loss: 0.0117\n",
      "Epoch 4/10\n",
      "54000/54000 [==============================] - 4s 67us/sample - loss: 0.2297 - mask_loss: 0.2080 - feature_loss: 0.0108\n",
      "Epoch 5/10\n",
      "54000/54000 [==============================] - 4s 68us/sample - loss: 0.2237 - mask_loss: 0.2031 - feature_loss: 0.0103\n",
      "Epoch 6/10\n",
      "54000/54000 [==============================] - 4s 68us/sample - loss: 0.2180 - mask_loss: 0.1980 - feature_loss: 0.0100\n",
      "Epoch 7/10\n",
      "54000/54000 [==============================] - 4s 68us/sample - loss: 0.2128 - mask_loss: 0.1932 - feature_loss: 0.0098\n",
      "Epoch 8/10\n",
      "54000/54000 [==============================] - 4s 68us/sample - loss: 0.2080 - mask_loss: 0.1888 - feature_loss: 0.0096\n",
      "Epoch 9/10\n",
      "54000/54000 [==============================] - 4s 68us/sample - loss: 0.2039 - mask_loss: 0.1849 - feature_loss: 0.0095\n",
      "Epoch 10/10\n",
      "54000/54000 [==============================] - 4s 68us/sample - loss: 0.2002 - mask_loss: 0.1814 - feature_loss: 0.0094\n"
     ]
    },
    {
     "name": "stderr",
     "output_type": "stream",
     "text": [
      "2022-01-25 18:12:58.907692: I tensorflow/core/common_runtime/gpu/gpu_device.cc:1159] Device interconnect StreamExecutor with strength 1 edge matrix:\n",
      "2022-01-25 18:12:58.907714: I tensorflow/core/common_runtime/gpu/gpu_device.cc:1165]      \n"
     ]
    },
    {
     "name": "stdout",
     "output_type": "stream",
     "text": [
      "Restoring model weights from the end of the best epoch.\n",
      "Epoch 00063: early stopping\n",
      "VIME-Self Performance: 0.9097\n"
     ]
    }
   ],
   "source": [
    "# Train VIME-Self\n",
    "vime_self_parameters = dict()\n",
    "vime_self_parameters['batch_size'] = 128\n",
    "vime_self_parameters['epochs'] = 50\n",
    "vime_self_encoder = vime_self(x_unlab, p_m, alpha, vime_self_parameters)\n",
    "  \n",
    "# Save encoder\n",
    "if not os.path.exists('save_model'):\n",
    "  os.makedirs('save_model')\n",
    "\n",
    "file_name = './save_model/encoder_model.h5'\n",
    "  \n",
    "vime_self_encoder.save(file_name)  \n",
    "        \n",
    "# Test VIME-Self\n",
    "x_train_hat = vime_self_encoder.predict(x_train)\n",
    "x_test_hat = vime_self_encoder.predict(x_test)\n",
    "      \n",
    "y_test_hat = mlp(x_train_hat, y_train, x_test_hat, mlp_parameters)\n",
    "results[3] = perf_metric(metric, y_test, y_test_hat)\n",
    "    \n",
    "print('VIME-Self Performance: ' + str(results[3]))"
   ]
  },
  {
   "cell_type": "markdown",
   "metadata": {},
   "source": [
    "### Train & Test VIME\n",
    "\n",
    "Train semi-supervised part of VIME framework on top of trained self-supervised encoder\n",
    "- Check the performance of entire part of VIME framework."
   ]
  },
  {
   "cell_type": "code",
   "execution_count": 6,
   "metadata": {},
   "outputs": [
    {
     "name": "stdout",
     "output_type": "stream",
     "text": [
      "WARNING:tensorflow:From /home/roytsai/VIME/vime_semi.py:67: The name tf.placeholder is deprecated. Please use tf.compat.v1.placeholder instead.\n",
      "\n",
      "WARNING:tensorflow:From /home/roytsai/VIME/vime_semi.py:84: The name tf.variable_scope is deprecated. Please use tf.compat.v1.variable_scope instead.\n",
      "\n",
      "WARNING:tensorflow:From /home/roytsai/VIME/vime_semi.py:84: The name tf.AUTO_REUSE is deprecated. Please use tf.compat.v1.AUTO_REUSE instead.\n",
      "\n",
      "WARNING:tensorflow:From /home/roytsai/.pyenv/versions/vime/lib/python3.7/site-packages/tensorflow_core/contrib/layers/python/layers/layers.py:1866: Layer.apply (from tensorflow.python.keras.engine.base_layer) is deprecated and will be removed in a future version.\n",
      "Instructions for updating:\n",
      "Please use `layer.__call__` method instead.\n",
      "WARNING:tensorflow:From /home/roytsai/VIME/vime_semi.py:106: The name tf.losses.softmax_cross_entropy is deprecated. Please use tf.compat.v1.losses.softmax_cross_entropy instead.\n",
      "\n",
      "WARNING:tensorflow:From /home/roytsai/VIME/vime_semi.py:111: The name tf.trainable_variables is deprecated. Please use tf.compat.v1.trainable_variables instead.\n",
      "\n",
      "WARNING:tensorflow:From /home/roytsai/VIME/vime_semi.py:114: The name tf.train.AdamOptimizer is deprecated. Please use tf.compat.v1.train.AdamOptimizer instead.\n",
      "\n",
      "WARNING:tensorflow:From /home/roytsai/.pyenv/versions/vime/lib/python3.7/site-packages/tensorflow_core/python/ops/init_ops.py:97: calling GlorotUniform.__init__ (from tensorflow.python.ops.init_ops) with dtype is deprecated and will be removed in a future version.\n",
      "Instructions for updating:\n",
      "Call initializer instance with the dtype argument instead of passing it to the constructor\n",
      "WARNING:tensorflow:From /home/roytsai/.pyenv/versions/vime/lib/python3.7/site-packages/tensorflow_core/python/ops/init_ops.py:97: calling Zeros.__init__ (from tensorflow.python.ops.init_ops) with dtype is deprecated and will be removed in a future version.\n",
      "Instructions for updating:\n",
      "Call initializer instance with the dtype argument instead of passing it to the constructor\n",
      "WARNING:tensorflow:No training configuration found in save file: the model was *not* compiled. Compile it manually.\n",
      "WARNING:tensorflow:From /home/roytsai/VIME/vime_semi.py:125: The name tf.Session is deprecated. Please use tf.compat.v1.Session instead.\n",
      "\n",
      "WARNING:tensorflow:From /home/roytsai/VIME/vime_semi.py:126: The name tf.global_variables_initializer is deprecated. Please use tf.compat.v1.global_variables_initializer instead.\n",
      "\n",
      "WARNING:tensorflow:From /home/roytsai/VIME/vime_semi.py:130: The name tf.train.Saver is deprecated. Please use tf.compat.v1.train.Saver instead.\n",
      "\n",
      "Start training\n",
      "Iteration: 0/1000, Current loss: 2.2177\n"
     ]
    },
    {
     "name": "stderr",
     "output_type": "stream",
     "text": [
      "2022-01-25 18:13:00.139642: I tensorflow/core/common_runtime/gpu/gpu_device.cc:1159] Device interconnect StreamExecutor with strength 1 edge matrix:\n",
      "2022-01-25 18:13:00.139665: I tensorflow/core/common_runtime/gpu/gpu_device.cc:1165]      \n"
     ]
    },
    {
     "name": "stdout",
     "output_type": "stream",
     "text": [
      "Iteration: 100/1000, Current loss: 0.3376\n",
      "Iteration: 200/1000, Current loss: 0.2806\n",
      "Iteration: 300/1000, Current loss: 0.2717\n",
      "WARNING:tensorflow:From /home/roytsai/VIME/vime_semi.py:189: The name tf.train.import_meta_graph is deprecated. Please use tf.compat.v1.train.import_meta_graph instead.\n",
      "\n",
      "INFO:tensorflow:Restoring parameters from ./save_model/class_model.ckpt\n",
      "VIME Performance: 0.9212\n"
     ]
    },
    {
     "name": "stderr",
     "output_type": "stream",
     "text": [
      "2022-01-25 18:13:14.392443: I tensorflow/core/common_runtime/gpu/gpu_device.cc:1159] Device interconnect StreamExecutor with strength 1 edge matrix:\n",
      "2022-01-25 18:13:14.392464: I tensorflow/core/common_runtime/gpu/gpu_device.cc:1165]      \n"
     ]
    }
   ],
   "source": [
    "# Train VIME-Semi\n",
    "vime_semi_parameters = dict()\n",
    "vime_semi_parameters['hidden_dim'] = 100\n",
    "vime_semi_parameters['batch_size'] = 128\n",
    "vime_semi_parameters['iterations'] = 1000\n",
    "y_test_hat = vime_semi(x_train, y_train, x_unlab, x_test, \n",
    "                       vime_semi_parameters, p_m, K, beta, file_name)\n",
    "\n",
    "# Test VIME\n",
    "results[4] = perf_metric(metric, y_test, y_test_hat)\n",
    "  \n",
    "print('VIME Performance: '+ str(results[4]))"
   ]
  },
  {
   "cell_type": "markdown",
   "metadata": {},
   "source": [
    "### Report Prediction Performances\n",
    "\n",
    "- 3 Supervised learning models\n",
    "- VIME with self-supervised part only\n",
    "- Entire VIME framework"
   ]
  },
  {
   "cell_type": "code",
   "execution_count": 7,
   "metadata": {},
   "outputs": [
    {
     "name": "stdout",
     "output_type": "stream",
     "text": [
      "Supervised Performance, Model Name: logit, Performance: 0.8738\n",
      "Supervised Performance, Model Name: xgboost, Performance: 0.8826\n",
      "Supervised Performance, Model Name: mlp, Performance: 0.8994\n",
      "VIME-Self Performance: 0.9097\n",
      "VIME Performance: 0.9212\n"
     ]
    }
   ],
   "source": [
    "for m_it in range(len(model_sets)):  \n",
    "    \n",
    "  model_name = model_sets[m_it]  \n",
    "    \n",
    "  print('Supervised Performance, Model Name: ' + model_name + \n",
    "        ', Performance: ' + str(results[m_it]))\n",
    "    \n",
    "print('VIME-Self Performance: ' + str(results[m_it+1]))\n",
    "  \n",
    "print('VIME Performance: '+ str(results[m_it+2]))"
   ]
  }
 ],
 "metadata": {
  "kernelspec": {
   "display_name": "vime",
   "language": "python",
   "name": "vime"
  },
  "language_info": {
   "codemirror_mode": {
    "name": "ipython",
    "version": 3
   },
   "file_extension": ".py",
   "mimetype": "text/x-python",
   "name": "python",
   "nbconvert_exporter": "python",
   "pygments_lexer": "ipython3",
   "version": "3.7.9"
  }
 },
 "nbformat": 4,
 "nbformat_minor": 2
}
