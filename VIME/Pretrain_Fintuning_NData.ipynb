{
 "cells": [
  {
   "cell_type": "code",
   "execution_count": 1,
   "metadata": {},
   "outputs": [
    {
     "name": "stderr",
     "output_type": "stream",
     "text": [
      "Using TensorFlow backend.\n"
     ]
    }
   ],
   "source": [
    "import numpy as np\n",
    "import os\n",
    "import warnings\n",
    "warnings.filterwarnings(\"ignore\")\n",
    "  \n",
    "from data_loader import load_mnist_data\n",
    "from supervised_models import logit, xgb_model, mlp\n",
    "\n",
    "%load_ext autoreload\n",
    "%autoreload 2\n",
    "\n",
    "from vime_self import vime_self\n",
    "from vime_semi import vime_semi\n",
    "from vime_utils import perf_metric"
   ]
  },
  {
   "cell_type": "code",
   "execution_count": 2,
   "metadata": {},
   "outputs": [],
   "source": [
    "import dataset\n",
    "import datetime\n",
    "from datetime import timedelta\n",
    "from parser_wco import get_parser_wco\n",
    "import numpy as np \n",
    "import pandas as pd \n",
    "import torch\n",
    "from sklearn.preprocessing import StandardScaler, MinMaxScaler\n",
    "from sklearn.metrics import precision_recall_fscore_support\n",
    "from sklearn.metrics import accuracy_score, roc_auc_score\n",
    "from utils import *\n",
    "# from pytorch_lightning import Trainer\n",
    "# from torch_geometric.utils import to_undirected"
   ]
  },
  {
   "cell_type": "markdown",
   "metadata": {},
   "source": [
    "## Load data"
   ]
  },
  {
   "cell_type": "code",
   "execution_count": 3,
   "metadata": {},
   "outputs": [],
   "source": [
    "data = pd.read_csv('../../data/ndata.csv')"
   ]
  },
  {
   "cell_type": "code",
   "execution_count": 4,
   "metadata": {},
   "outputs": [],
   "source": [
    "data.describe(include='all').to_csv('describe_ndata.csv', index=False)"
   ]
  },
  {
   "cell_type": "code",
   "execution_count": 5,
   "metadata": {},
   "outputs": [],
   "source": [
    "data = dataset.Ndata(path='../../data/ndata.csv')\n",
    "parser = get_parser_wco()\n",
    "args = parser.parse_args(args=\n",
    "                         [\"--data\",\"real-n\", \n",
    "                          \"--sampling\",\"xgb\",\n",
    "                          \"--train_from\",\"20140101\",\n",
    "                          \"--test_from\",\"20170101\",\n",
    "                          \"--test_length\",\"365\",\n",
    "                          \"--valid_length\",\"90\",\n",
    "                          \"--initial_inspection_rate\", \"5\",\n",
    "                          \"--final_inspection_rate\", \"10\",\n",
    "                         ])"
   ]
  },
  {
   "cell_type": "code",
   "execution_count": 6,
   "metadata": {},
   "outputs": [
    {
     "name": "stdout",
     "output_type": "stream",
     "text": [
      "Data size:\n",
      "Train labeled: (54134, 52), Train unlabeled: (1028538, 52), Valid labeled: (70917, 52), Valid unlabeled: (0, 26), Test: (274808, 52)\n",
      "Checking label distribution\n",
      "Training: 0.05022795615481618\n",
      "Validation: 0.035556788645191434\n",
      "Testing: 0.025360899366070794\n"
     ]
    }
   ],
   "source": [
    "# args\n",
    "seed = args.seed\n",
    "epochs = args.epoch\n",
    "dim = args.dim\n",
    "lr = args.lr\n",
    "weight_decay = args.l2\n",
    "initial_inspection_rate = args.initial_inspection_rate\n",
    "inspection_rate_option = args.inspection_plan\n",
    "train_begin = args.train_from \n",
    "test_begin = args.test_from\n",
    "test_length = args.test_length\n",
    "valid_length = args.valid_length\n",
    "chosen_data = args.data\n",
    "numWeeks = args.numweeks\n",
    "semi_supervised = args.semi_supervised\n",
    "save = args.save\n",
    "gpu_id = args.device\n",
    "\n",
    "# Initial dataset split\n",
    "np.random.seed(seed)\n",
    "torch.manual_seed(seed)\n",
    "if torch.cuda.is_available():\n",
    "    torch.cuda.manual_seed(seed)\n",
    "\n",
    "# Initial dataset split\n",
    "train_start_day = datetime.date(int(train_begin[:4]), int(train_begin[4:6]), int(train_begin[6:8]))\n",
    "test_start_day = datetime.date(int(test_begin[:4]), int(test_begin[4:6]), int(test_begin[6:8]))\n",
    "test_length = timedelta(days=test_length)    \n",
    "test_end_day = test_start_day + test_length\n",
    "valid_length = timedelta(days=valid_length)\n",
    "valid_start_day = test_start_day - valid_length\n",
    "\n",
    "# data\n",
    "data.split(train_start_day, valid_start_day, test_start_day, test_end_day, valid_length, test_length, args)\n",
    "data.featureEngineering()"
   ]
  },
  {
   "cell_type": "markdown",
   "metadata": {},
   "source": [
    "## VIME"
   ]
  },
  {
   "cell_type": "code",
   "execution_count": 7,
   "metadata": {},
   "outputs": [
    {
     "name": "stdout",
     "output_type": "stream",
     "text": [
      "(48720, 2)\n",
      "WARNING:tensorflow:From /home/singh/anaconda3/envs/mlrl/lib/python3.6/site-packages/keras/backend/tensorflow_backend.py:422: The name tf.global_variables is deprecated. Please use tf.compat.v1.global_variables instead.\n",
      "\n",
      "Supervised Performance, Model Name: logit, Performance: 0.5587301840914923\n",
      "Supervised Performance, Model Name: xgboost, Performance: 0.5814185198482685\n",
      "Supervised Performance, Model Name: mlp, Performance: 0.6299288374648435\n",
      "WARNING:tensorflow:From /home/singh/anaconda3/envs/mlrl/lib/python3.6/site-packages/tensorflow/python/ops/nn_impl.py:180: add_dispatch_support.<locals>.wrapper (from tensorflow.python.ops.array_ops) is deprecated and will be removed in a future version.\n",
      "Instructions for updating:\n",
      "Use tf.where in 2.0, which has the same broadcast rule as np.where\n",
      "Epoch 1/10\n",
      "1028538/1028538 [==============================] - 50s 49us/step - loss: 1.9590 - mask_loss: 0.3920 - feature_loss: 0.7835\n",
      "Epoch 2/10\n",
      "1028538/1028538 [==============================] - 46s 45us/step - loss: 1.9199 - mask_loss: 0.3797 - feature_loss: 0.7701\n",
      "Epoch 3/10\n",
      "1028538/1028538 [==============================] - 47s 46us/step - loss: 1.9147 - mask_loss: 0.3770 - feature_loss: 0.7689\n",
      "Epoch 4/10\n",
      "1028538/1028538 [==============================] - 46s 45us/step - loss: 1.9119 - mask_loss: 0.3751 - feature_loss: 0.7684\n",
      "Epoch 5/10\n",
      "1028538/1028538 [==============================] - 50s 49us/step - loss: 1.9094 - mask_loss: 0.3733 - feature_loss: 0.7680\n",
      "Epoch 6/10\n",
      "1028538/1028538 [==============================] - 51s 50us/step - loss: 1.9076 - mask_loss: 0.3716 - feature_loss: 0.7680\n",
      "Epoch 7/10\n",
      "1028538/1028538 [==============================] - 51s 49us/step - loss: 1.9061 - mask_loss: 0.3701 - feature_loss: 0.7680\n",
      "Epoch 8/10\n",
      "1028538/1028538 [==============================] - 50s 49us/step - loss: 1.9046 - mask_loss: 0.3687 - feature_loss: 0.7680\n",
      "Epoch 9/10\n",
      "1028538/1028538 [==============================] - 51s 50us/step - loss: 1.9037 - mask_loss: 0.3678 - feature_loss: 0.7680\n",
      "Epoch 10/10\n",
      "1028538/1028538 [==============================] - 51s 49us/step - loss: 1.9029 - mask_loss: 0.3670 - feature_loss: 0.7679\n",
      "(48720, 2)\n",
      "VIME-Self Performance: 0.6658698876732867\n",
      "Supervised Performance, Model Name: logit, Performance: 0.5587301840914923\n",
      "Supervised Performance, Model Name: xgboost, Performance: 0.5814185198482685\n",
      "Supervised Performance, Model Name: mlp, Performance: 0.6299288374648435\n",
      "VIME-Self Performance: 0.6658698876732867\n"
     ]
    }
   ],
   "source": [
    "# Experimental parameters\n",
    "label_no = 1000  \n",
    "model_sets = ['logit','xgboost','mlp']\n",
    "  \n",
    "# Hyper-parameters\n",
    "p_m = 0.3\n",
    "alpha = 2.0\n",
    "K = 3\n",
    "beta = 1.0\n",
    "label_data_rate = 0.1\n",
    "\n",
    "# Metric\n",
    "metric = 'auc'\n",
    "  \n",
    "# Define output\n",
    "results = np.zeros([len(model_sets)+2])  \n",
    "results = {}\n",
    "\n",
    "# Scale stuff\n",
    "scalar = StandardScaler()\n",
    "x_train = scalar.fit_transform(data.dftrainx_lab)\n",
    "y_train = data.train_cls_label\n",
    "y_train = y_train.reshape(-1,1)\n",
    "x_test = scalar.fit_transform(data.dftestx)\n",
    "y_test = data.test_cls_label\n",
    "y_test = y_test.reshape(-1,1)\n",
    "x_unlab = scalar.fit_transform(data.dftrainx_unlab)\n",
    "x_valid = scalar.fit_transform(data.dfvalidx_lab)\n",
    "y_valid = data.valid_cls_label\n",
    "\n",
    "#---Supervised Models for VIME---#\n",
    "\n",
    "# Logistic regression\n",
    "y_test_hat = logit(x_train, y_train, x_test)\n",
    "results[0] = roc_auc_score(y_test, y_test_hat[:,1])\n",
    "\n",
    "# XGBoost\n",
    "y_test_hat = xgb_model(x_train, y_train, x_test)    \n",
    "results[1] = roc_auc_score(y_test, y_test_hat[:,1])   \n",
    "\n",
    "# MLP\n",
    "mlp_parameters = dict()\n",
    "mlp_parameters['hidden_dim'] = 100\n",
    "mlp_parameters['epochs'] = 10\n",
    "mlp_parameters['activation'] = 'relu'\n",
    "mlp_parameters['batch_size'] = 100\n",
    "      \n",
    "y_test_hat = mlp(x_train, y_train, x_test, mlp_parameters)\n",
    "results[2] = roc_auc_score(y_test, y_test_hat[:,1])\n",
    "\n",
    "# Report performance\n",
    "for m_it in range(len(model_sets)):  \n",
    "    \n",
    "  model_name = model_sets[m_it]  \n",
    "    \n",
    "  print('Supervised Performance, Model Name: ' + model_name + \n",
    "        ', Performance: ' + str(results[m_it]))\n",
    "\n",
    "\n",
    "#---Self - supervised VIME---#\n",
    "\n",
    "# Train VIME-Self\n",
    "vime_self_parameters = dict()\n",
    "vime_self_parameters['batch_size'] = 128\n",
    "vime_self_parameters['epochs'] = 10\n",
    "vime_self_encoder = vime_self(x_unlab, p_m, alpha, vime_self_parameters)\n",
    "  \n",
    "# Save encoder\n",
    "if not os.path.exists('save_model'):\n",
    "  os.makedirs('save_model')\n",
    "\n",
    "file_name = './save_model/encoder_model.h5'\n",
    "  \n",
    "vime_self_encoder.save(file_name)  \n",
    "        \n",
    "# Test VIME-Self\n",
    "x_train_hat = vime_self_encoder.predict(x_train)\n",
    "x_test_hat = vime_self_encoder.predict(x_test)\n",
    "      \n",
    "y_test_hat = mlp(x_train_hat, y_train, x_test_hat, mlp_parameters)\n",
    "results[3] = roc_auc_score(y_test, y_test_hat[:,1])\n",
    "    \n",
    "print('VIME-Self Performance: ' + str(results[3]))\n",
    "\n",
    "#---Semi Supervised VIME---#\n",
    "\n",
    "# # Train VIME-Semi\n",
    "# vime_semi_parameters = dict()\n",
    "# vime_semi_parameters['hidden_dim'] = 100\n",
    "# vime_semi_parameters['batch_size'] = 128\n",
    "# vime_semi_parameters['iterations'] = 1000\n",
    "# y_test_hat = vime_semi(x_train, y_train, x_unlab, x_test, \n",
    "#                        vime_semi_parameters, p_m, K, beta, file_name)\n",
    "\n",
    "# # Test VIME\n",
    "# results[4] = roc_auc_score(y_test, y_test_hat)\n",
    "  \n",
    "# print('VIME Performance: '+ str(results[4]))\n",
    "\n",
    "\n",
    "#---Performance of VIME stuff---#\n",
    "\n",
    "for m_it in range(len(model_sets)):  \n",
    "    \n",
    "  model_name = model_sets[m_it]  \n",
    "    \n",
    "  print('Supervised Performance, Model Name: ' + model_name + \n",
    "        ', Performance: ' + str(results[m_it]))\n",
    "    \n",
    "print('VIME-Self Performance: ' + str(results[m_it+1]))\n",
    "  \n",
    "# print('VIME Performance: '+ str(results[m_it+2]))\n",
    "\n",
    "#---Modify the best thresh function---#\n",
    "\n",
    "def find_best_threshold_local(y_pred_prob,x_list,y_test,best_thresh = None):\n",
    "    '''\n",
    "    dtype model: scikit-learn classifier model\n",
    "    dtype x_list: list or array to predict the probability result\n",
    "    dtype y_test: array of true labels\n",
    "    \n",
    "    Find the best probability threshold to separate probability to 0 and 1\n",
    "    '''\n",
    "    y_pred_prob = y_pred_prob\n",
    "    threshold_list = np.arange(0.1,0.6,0.1)\n",
    "    best_auc = 0.5    # 0.5 is random for AUC.\n",
    "    \n",
    "    if best_thresh ==None:\n",
    "        for th in threshold_list:\n",
    "            y_pred_label = (y_pred_prob > th)*1 \n",
    "            try:\n",
    "                auc_score = roc_auc_score(y_test,y_pred_prob)\n",
    "            except ValueError:\n",
    "                auc_score = 0.5\n",
    "            if auc_score > best_auc:\n",
    "                best_auc = auc_score\n",
    "                best_thresh = th \n",
    "        return best_thresh, best_auc\n",
    "    \n",
    "    else:\n",
    "        y_pred_label = (y_pred_prob > best_thresh)*1 \n",
    "        best_auc = roc_auc_score(y_test,y_pred_label)\n",
    "    print(\"AUC-score equals to:%.4f\"%(best_auc))\n",
    "    return best_auc"
   ]
  },
  {
   "cell_type": "code",
   "execution_count": 14,
   "metadata": {
    "scrolled": true
   },
   "outputs": [
    {
     "name": "stdout",
     "output_type": "stream",
     "text": [
      "Checking top 1% suspicious transactions: 2749\n",
      "Precision: 0.0313, Recall: 0.0127, Revenue: 0.0138\n",
      "Checking top 2% suspicious transactions: 5497\n",
      "Precision: 0.0367, Recall: 0.0297, Revenue: 0.0722\n",
      "Checking top 5% suspicious transactions: 13741\n",
      "Precision: 0.0339, Recall: 0.0686, Revenue: 0.1566\n",
      "Checking top 10% suspicious transactions: 27481\n",
      "Precision: 0.0274, Recall: 0.1108, Revenue: 0.2563\n"
     ]
    }
   ],
   "source": [
    "# Check performance \n",
    "best_thresh, best_auc = find_best_threshold_local(y_test_hat, x_valid, y_valid)\n",
    "overall_f1,auc,pr, re, f, rev = metrics(y_test_hat[:,1], y_test.reshape(-1),data.test_reg_label,best_thresh)"
   ]
  },
  {
   "cell_type": "markdown",
   "metadata": {},
   "source": [
    "## Prepare DATA"
   ]
  },
  {
   "cell_type": "code",
   "execution_count": 31,
   "metadata": {},
   "outputs": [],
   "source": [
    "from pygData_util import *"
   ]
  },
  {
   "cell_type": "code",
   "execution_count": null,
   "metadata": {},
   "outputs": [],
   "source": [
    "categories=[\"importer.id\",\"HS6\"]\n",
    "gdata = GraphData(data,use_xgb=True, categories=categories, pos_weight = 50)"
   ]
  },
  {
   "cell_type": "code",
   "execution_count": 10,
   "metadata": {},
   "outputs": [
    {
     "name": "stdout",
     "output_type": "stream",
     "text": [
      "Checking top 1% suspicious transactions: 710\n",
      "Precision: 0.2127, Recall: 0.0620, Revenue: 0.0370\n",
      "Checking top 2% suspicious transactions: 1419\n",
      "Precision: 0.1473, Recall: 0.0858, Revenue: 0.0460\n",
      "Checking top 5% suspicious transactions: 3546\n",
      "Precision: 0.0773, Recall: 0.1125, Revenue: 0.0595\n",
      "Checking top 10% suspicious transactions: 7092\n",
      "Precision: 0.0468, Recall: 0.1363, Revenue: 0.1279\n",
      "--------------------------------------------------\n",
      "Checking top 1% suspicious transactions: 2749\n",
      "Precision: 0.1186, Recall: 0.0480, Revenue: 0.0928\n",
      "Checking top 2% suspicious transactions: 5497\n",
      "Precision: 0.0786, Recall: 0.0636, Revenue: 0.1278\n",
      "Checking top 5% suspicious transactions: 13741\n",
      "Precision: 0.0418, Recall: 0.0846, Revenue: 0.1699\n",
      "Checking top 10% suspicious transactions: 27481\n",
      "Precision: 0.0318, Recall: 0.1284, Revenue: 0.2528\n"
     ]
    }
   ],
   "source": [
    "best_thresh, best_auc = find_best_threshold(gdata.xgb,data.dfvalidx_lab, data.valid_cls_label)\n",
    "xgb_test_pred = gdata.xgb.predict_proba(data.dfvalidx_lab)[:,-1]\n",
    "overall_f1,auc,pr, re, f, rev = metrics(xgb_test_pred, data.valid_cls_label,data.valid_reg_label,best_thresh)\n",
    "print(\"-\"*50)\n",
    "xgb_test_pred = gdata.xgb.predict_proba(data.dftestx)[:,-1]\n",
    "overall_f1,auc,pr, re, f, rev = metrics(xgb_test_pred, data.test_cls_label,data.test_reg_label,best_thresh)"
   ]
  },
  {
   "cell_type": "code",
   "execution_count": 11,
   "metadata": {},
   "outputs": [],
   "source": [
    "stage = \"train_lab\"\n",
    "trainLab_data = gdata.get_data(stage)\n",
    "train_nodeidx = torch.tensor(gdata.get_AttNode(stage))\n",
    "trainLab_data.node_idx = train_nodeidx"
   ]
  },
  {
   "cell_type": "code",
   "execution_count": 12,
   "metadata": {},
   "outputs": [],
   "source": [
    "stage = \"train_unlab\"\n",
    "unlab_data = gdata.get_data(stage)\n",
    "unlab_nodeidx = torch.tensor(gdata.get_AttNode(stage))\n",
    "unlab_data.node_idx = unlab_nodeidx"
   ]
  },
  {
   "cell_type": "code",
   "execution_count": 13,
   "metadata": {},
   "outputs": [],
   "source": [
    "stage = \"valid\"\n",
    "valid_data = gdata.get_data(stage)\n",
    "valid_nodeidx = torch.tensor(gdata.get_AttNode(stage))\n",
    "valid_data.node_idx = valid_nodeidx"
   ]
  },
  {
   "cell_type": "code",
   "execution_count": 14,
   "metadata": {},
   "outputs": [],
   "source": [
    "stage = \"test\"\n",
    "test_data = gdata.get_data(stage)\n",
    "test_nodeidx = torch.tensor(gdata.get_AttNode(stage))\n",
    "test_data.node_idx = test_nodeidx"
   ]
  },
  {
   "cell_type": "code",
   "execution_count": 15,
   "metadata": {},
   "outputs": [],
   "source": [
    "stacked_data = StackData(trainLab_data,unlab_data,valid_data, test_data)"
   ]
  },
  {
   "cell_type": "markdown",
   "metadata": {},
   "source": [
    "## New Sampler"
   ]
  },
  {
   "cell_type": "code",
   "execution_count": 16,
   "metadata": {},
   "outputs": [],
   "source": [
    "from torch_cluster import random_walk\n",
    "from torch_geometric.data import NeighborSampler \n",
    "from pytorch_lightning import LightningDataModule"
   ]
  },
  {
   "cell_type": "code",
   "execution_count": 17,
   "metadata": {},
   "outputs": [],
   "source": [
    "class UnsupSampler(NeighborSampler):\n",
    "    def sample(self, batch):\n",
    "        batch = torch.tensor(batch)\n",
    "        row, col, _ = self.adj_t.coo()\n",
    "\n",
    "        # For each node in `batch`, we sample a direct neighbor (as positive\n",
    "        # example) and a random node (as negative example):\n",
    "        pos_batch = random_walk(row, col, batch, walk_length=1,\n",
    "                                coalesced=False)[:, 1]\n",
    "\n",
    "        neg_batch = torch.randint(0, self.adj_t.size(1), (batch.numel(), ),\n",
    "                                  dtype=torch.long)\n",
    "\n",
    "        batch = torch.cat([batch, pos_batch, neg_batch], dim=0)\n",
    "        return super(UnsupSampler, self).sample(batch)"
   ]
  },
  {
   "cell_type": "code",
   "execution_count": 18,
   "metadata": {},
   "outputs": [],
   "source": [
    "class Batch(NamedTuple):\n",
    "    '''\n",
    "    convert batch data for pytorch-lightning\n",
    "    '''\n",
    "    x: Tensor\n",
    "    y: Tensor\n",
    "    rev: Tensor\n",
    "    adjs_t: NamedTuple\n",
    "    def to(self, *args, **kwargs):\n",
    "        return Batch(\n",
    "            x=self.x.to(*args, **kwargs),\n",
    "            y=self.y.to(*args, **kwargs),\n",
    "            rev=self.rev.to(*args, **kwargs),\n",
    "            adjs_t=[(adj_t.to(*args, **kwargs), eid.to(*args, **kwargs), size) for adj_t, eid, size in self.adjs_t],\n",
    "        )\n"
   ]
  },
  {
   "cell_type": "code",
   "execution_count": 19,
   "metadata": {},
   "outputs": [],
   "source": [
    "class UnsupData(LightningDataModule):\n",
    "    def __init__(self,data,sizes, batch_size = 128):\n",
    "        '''\n",
    "        defining dataloader with NeighborSampler to extract k-hop subgraph.\n",
    "        Args:\n",
    "            data (Graphdata): graph data for the edges and node index\n",
    "            sizes ([int]): The number of neighbors to sample for each node in each layer. \n",
    "                           If set to :obj:`sizes[l] = -1`, all neighbors are included\n",
    "            batch_size (int): batch size for training\n",
    "        '''\n",
    "        super(UnsupData,self).__init__()\n",
    "        self.data = data\n",
    "        self.sizes = sizes\n",
    "        self.valid_sizes = [-1 for i in self.sizes]\n",
    "        self.batch_size = batch_size\n",
    "\n",
    "    def train_dataloader(self):\n",
    "        return UnsupSampler(self.data.train_edge, sizes=self.sizes,\n",
    "                               batch_size=self.batch_size,transform=self.convert_batch,\n",
    "                               shuffle=True,num_workers=8)\n",
    "    \n",
    "    def test_dataloader(self):\n",
    "        return UnsupSampler(self.data.test_edge, sizes=self.sizes,node_idx=self.data.test_idx,\n",
    "                               batch_size=self.batch_size,transform=self.convert_batch,\n",
    "                               shuffle=False,num_workers=8)\n",
    "    \n",
    "    def label_loader(self):\n",
    "        return UnsupSampler(self.data.test_edge, sizes=self.sizes,node_idx=self.data.train_idx,\n",
    "                               batch_size=self.batch_size,transform=self.convert_batch,\n",
    "                               shuffle=False,num_workers=8)\n",
    "\n",
    "    def convert_batch(self, batch_size, n_id, adjs):\n",
    "        return Batch(\n",
    "            x=self.data.x[n_id],\n",
    "            y=self.data.y[n_id[:batch_size]],\n",
    "            rev = self.data.rev[n_id[:batch_size]],\n",
    "            adjs_t=adjs,\n",
    "        )"
   ]
  },
  {
   "cell_type": "markdown",
   "metadata": {},
   "source": [
    "## Model"
   ]
  },
  {
   "cell_type": "code",
   "execution_count": 20,
   "metadata": {},
   "outputs": [],
   "source": [
    "from models import MLP, GNNStack, UselessConv, Mish"
   ]
  },
  {
   "cell_type": "code",
   "execution_count": 21,
   "metadata": {},
   "outputs": [],
   "source": [
    "from pytorch_lightning.callbacks import ModelCheckpoint, EarlyStopping\n",
    "from pytorch_lightning import LightningModule, seed_everything\n",
    "from torchtools.optim import RangerLars\n",
    "from pytorch_lightning.loggers import TensorBoardLogger\n",
    "import torch\n",
    "import torch.nn as nn\n",
    "import torch.nn.functional as F"
   ]
  },
  {
   "cell_type": "code",
   "execution_count": 22,
   "metadata": {},
   "outputs": [],
   "source": [
    "class PretrainGNN(LightningModule):\n",
    "    def __init__(self,input_dim, hidden_dim, numLayers, useXGB=True):\n",
    "        super().__init__()\n",
    "        self.save_hyperparameters()\n",
    "        self.input_dim = input_dim\n",
    "        self.dim = hidden_dim*2\n",
    "        self.numLayers = numLayers\n",
    "        self.layers = [self.dim, self.dim//2] #* (numLayers+1)\n",
    "        self.bn = nn.BatchNorm1d(self.dim)\n",
    "        self.act = Mish()\n",
    "        self.useXGB = useXGB\n",
    "        \n",
    "        # GNN layer\n",
    "        if self.useXGB:\n",
    "            self.initEmbedding = nn.Embedding(self.input_dim, self.dim, padding_idx=0)\n",
    "        else:\n",
    "            self.initEmbedding = MLP(self.input_dim, self.dim, Numlayer=2)\n",
    "        self.initGNN = UselessConv()\n",
    "        self.GNNs = GNNStack(self.layers,self.numLayers)\n",
    "\n",
    "    def forward(self, x,adjs):\n",
    "        # update node embedding\n",
    "        leaf_emb = self.initEmbedding(x)\n",
    "        if self.useXGB:\n",
    "            leaf_emb = torch.sum(leaf_emb,dim=1) # summation over the trees\n",
    "            leaf_emb = self.bn(leaf_emb)\n",
    "            leaf_emb = self.act(leaf_emb)\n",
    "        \n",
    "        # first update \n",
    "        firstHop_neighbor = adjs[-1][0]\n",
    "        leaf_emb = self.initGNN(leaf_emb,to_undirected(firstHop_neighbor))\n",
    "        \n",
    "        # GNN \n",
    "        embeddings = self.GNNs(leaf_emb, adjs)\n",
    "        \n",
    "        return embeddings[-1]\n",
    "    \n",
    "    def training_step(self, batch, batch_idx: int):\n",
    "        out = self(batch.x, batch.adjs_t)\n",
    "        out, pos_out, neg_out = out.split(out.size(0) // 3, dim=0)\n",
    "        pos_loss = F.logsigmoid((out * pos_out).sum(-1)).mean()\n",
    "        neg_loss = F.logsigmoid(-(out * neg_out).sum(-1)).mean()\n",
    "        train_loss = -pos_loss - neg_loss\n",
    "        self.log('train_loss', train_loss)\n",
    "        return train_loss\n",
    "    \n",
    "    def test_step(self, batch, batch_idx: int):\n",
    "        out = self(batch.x, batch.adjs_t)\n",
    "        out, pos_out, neg_out = out.split(out.size(0) // 3, dim=0)\n",
    "        return out\n",
    "    \n",
    "    def test_epoch_end(self, val_step_outputs):\n",
    "        val_step_outputs = torch.cat(val_step_outputs)\n",
    "        val_step_outputs = val_step_outputs.cpu().detach().numpy()\n",
    "        return {\"log\":{\"predictions\":val_step_outputs}}\n",
    "    \n",
    "    def configure_optimizers(self):\n",
    "        optimizer = RangerLars(self.parameters(), lr=0.01, weight_decay=0.0001)\n",
    "        scheduler = torch.optim.lr_scheduler.ExponentialLR(optimizer,gamma=0.8)\n",
    "        return [optimizer], [scheduler]"
   ]
  },
  {
   "cell_type": "code",
   "execution_count": 23,
   "metadata": {
    "scrolled": false
   },
   "outputs": [
    {
     "name": "stderr",
     "output_type": "stream",
     "text": [
      "Global seed set to 2345\n",
      "GPU available: True, used: True\n",
      "TPU available: None, using: 0 TPU cores\n",
      "LOCAL_RANK: 0 - CUDA_VISIBLE_DEVICES: [0,1,2,3,4,5]\n",
      "\n",
      "  | Name          | Type        | Params\n",
      "----------------------------------------------\n",
      "0 | bn            | BatchNorm1d | 128   \n",
      "1 | act           | Mish        | 0     \n",
      "2 | initEmbedding | Embedding   | 73.2 K\n",
      "3 | initGNN       | UselessConv | 0     \n",
      "4 | GNNs          | GNNStack    | 33.5 K\n",
      "----------------------------------------------\n",
      "106 K     Trainable params\n",
      "0         Non-trainable params\n",
      "106 K     Total params\n"
     ]
    },
    {
     "data": {
      "application/vnd.jupyter.widget-view+json": {
       "model_id": "406b8c88374e41369c95bbe8c74ecf1d",
       "version_major": 2,
       "version_minor": 0
      },
      "text/plain": [
       "HBox(children=(FloatProgress(value=1.0, bar_style='info', description='Training', layout=Layout(flex='2'), max…"
      ]
     },
     "metadata": {},
     "output_type": "display_data"
    },
    {
     "name": "stdout",
     "output_type": "stream",
     "text": [
      "\n"
     ]
    },
    {
     "data": {
      "text/plain": [
       "1"
      ]
     },
     "execution_count": 23,
     "metadata": {},
     "output_type": "execute_result"
    }
   ],
   "source": [
    "# model config\n",
    "seed_everything(2345)\n",
    "input_dim = gdata.leaf_dim\n",
    "hidden_size = 32\n",
    "sizes = [50,20]\n",
    "numLayers = len(sizes)\n",
    "batch_size = 1024\n",
    "\n",
    "model = PretrainGNN(input_dim, hidden_size, numLayers, useXGB=gdata.use_xgb)\n",
    "\n",
    "# lightning config\n",
    "stacked_data = StackData(trainLab_data,unlab_data,valid_data, test_data)\n",
    "datamodule = UnsupData(stacked_data, sizes = sizes, batch_size=batch_size)\n",
    "checkpoint_callback = ModelCheckpoint(\n",
    "    monitor='train_loss',    \n",
    "    dirpath='./saved_model',\n",
    "    filename='Tdata5-pretrain-{train_loss:.4f}',\n",
    "    save_top_k=1,\n",
    "    mode='min',\n",
    ")\n",
    "trainer = Trainer(gpus=[1], max_epochs=3,\n",
    "#                   callbacks=[checkpoint_callback],\n",
    "                 )\n",
    "trainer.fit(model, train_dataloader=datamodule.train_dataloader(),\n",
    "           )"
   ]
  },
  {
   "cell_type": "code",
   "execution_count": 24,
   "metadata": {},
   "outputs": [
    {
     "data": {
      "text/plain": [
       "1"
      ]
     },
     "execution_count": 24,
     "metadata": {},
     "output_type": "execute_result"
    }
   ],
   "source": [
    "trainer.test()"
   ]
  },
  {
   "cell_type": "code",
   "execution_count": 25,
   "metadata": {},
   "outputs": [],
   "source": [
    "# trainer.save_checkpoint(\"./saved_model/pretrained.ckpt\")"
   ]
  },
  {
   "cell_type": "code",
   "execution_count": 26,
   "metadata": {},
   "outputs": [],
   "source": [
    "from tqdm import tqdm_notebook"
   ]
  },
  {
   "cell_type": "code",
   "execution_count": 27,
   "metadata": {},
   "outputs": [
    {
     "data": {
      "application/vnd.jupyter.widget-view+json": {
       "model_id": "98c5b5b982b74eb7b71f3e8a01d6e9c4",
       "version_major": 2,
       "version_minor": 0
      },
      "text/plain": [
       "HBox(children=(FloatProgress(value=0.0, max=269.0), HTML(value='')))"
      ]
     },
     "metadata": {},
     "output_type": "display_data"
    },
    {
     "name": "stdout",
     "output_type": "stream",
     "text": [
      "\n"
     ]
    }
   ],
   "source": [
    "test_embeddings = []\n",
    "for batch in tqdm_notebook(datamodule.test_dataloader()):\n",
    "    batch = batch.to(model.device)\n",
    "    out = model(batch.x, batch.adjs_t)\n",
    "    out, pos_out, neg_out = out.split(out.size(0) // 3, dim=0)\n",
    "    test_embeddings.append(out.cpu().detach().numpy())"
   ]
  },
  {
   "cell_type": "code",
   "execution_count": 28,
   "metadata": {},
   "outputs": [
    {
     "data": {
      "application/vnd.jupyter.widget-view+json": {
       "model_id": "4a4d597a616f4f2bbc31976f05b4957e",
       "version_major": 2,
       "version_minor": 0
      },
      "text/plain": [
       "HBox(children=(FloatProgress(value=0.0, max=53.0), HTML(value='')))"
      ]
     },
     "metadata": {},
     "output_type": "display_data"
    },
    {
     "name": "stdout",
     "output_type": "stream",
     "text": [
      "\n"
     ]
    }
   ],
   "source": [
    "embeddings = []\n",
    "for batch in tqdm_notebook(datamodule.label_loader()):\n",
    "    batch = batch.to(model.device)\n",
    "    out = model(batch.x, batch.adjs_t)\n",
    "    out, pos_out, neg_out = out.split(out.size(0) // 3, dim=0)\n",
    "    embeddings.append(out.cpu().detach().numpy())"
   ]
  },
  {
   "cell_type": "code",
   "execution_count": 29,
   "metadata": {},
   "outputs": [],
   "source": [
    "embeddings = np.concatenate(embeddings)\n",
    "test_embeddings = np.concatenate(test_embeddings)"
   ]
  },
  {
   "cell_type": "code",
   "execution_count": 30,
   "metadata": {},
   "outputs": [],
   "source": [
    "from sklearn.linear_model import LogisticRegression"
   ]
  },
  {
   "cell_type": "code",
   "execution_count": 31,
   "metadata": {},
   "outputs": [
    {
     "data": {
      "text/plain": [
       "LogisticRegression(C=1.0, class_weight={0: 1, 1: 50}, dual=False,\n",
       "                   fit_intercept=True, intercept_scaling=1, l1_ratio=None,\n",
       "                   max_iter=100, multi_class='warn', n_jobs=None, penalty='l2',\n",
       "                   random_state=None, solver='warn', tol=0.0001, verbose=0,\n",
       "                   warm_start=False)"
      ]
     },
     "execution_count": 31,
     "metadata": {},
     "output_type": "execute_result"
    }
   ],
   "source": [
    "lr = LogisticRegression(class_weight={1:50,0:1})\n",
    "lr.fit(embeddings,data.train_cls_label)"
   ]
  },
  {
   "cell_type": "code",
   "execution_count": 32,
   "metadata": {},
   "outputs": [],
   "source": [
    "y_prob = lr.predict_proba(test_embeddings)[:,1]"
   ]
  },
  {
   "cell_type": "code",
   "execution_count": 33,
   "metadata": {},
   "outputs": [
    {
     "name": "stdout",
     "output_type": "stream",
     "text": [
      "Checking top 1% suspicious transactions: 2749\n",
      "Precision: 0.0291, Recall: 0.0118, Revenue: 0.0156\n",
      "Checking top 2% suspicious transactions: 5497\n",
      "Precision: 0.0320, Recall: 0.0259, Revenue: 0.0663\n",
      "Checking top 5% suspicious transactions: 13741\n",
      "Precision: 0.0292, Recall: 0.0590, Revenue: 0.1169\n",
      "Checking top 10% suspicious transactions: 27481\n",
      "Precision: 0.0310, Recall: 0.1252, Revenue: 0.2015\n"
     ]
    }
   ],
   "source": [
    "_ = metrics(y_prob, data.test_cls_label,data.test_reg_label,None)"
   ]
  },
  {
   "cell_type": "markdown",
   "metadata": {},
   "source": [
    "## Fine tuning"
   ]
  },
  {
   "cell_type": "code",
   "execution_count": 34,
   "metadata": {},
   "outputs": [],
   "source": [
    "from torch_geometric.nn import GATConv,TransformerConv\n",
    "from pygData_util import *"
   ]
  },
  {
   "cell_type": "code",
   "execution_count": 35,
   "metadata": {},
   "outputs": [],
   "source": [
    "class Predictor(LightningModule):\n",
    "    def __init__(self,input_dim, hidden_dim, numLayers, useXGB=True):\n",
    "        super().__init__()\n",
    "        self.gnn_encoder = PretrainGNN(input_dim, hidden_size, numLayers, useXGB)\n",
    "        self.dim = hidden_dim * 2\n",
    "        \n",
    "        # output\n",
    "        self.clsLayer = nn.Linear(self.dim,1) #GATConv(self.dim,1)\n",
    "        self.revLayer = nn.Linear(self.dim,1) #GATConv(self.dim,1)\n",
    "        self.loss_func = nn.BCEWithLogitsLoss(pos_weight = torch.tensor([20])) #FocalLoss(logits=True)\n",
    "        \n",
    "    def load_fromPretrain(self,path):\n",
    "        self.gnn_encoder.load_from_checkpoint(path)\n",
    "        \n",
    "    def loadGNN_state(self,model):\n",
    "        self.gnn_encoder.load_state_dict(model.state_dict())\n",
    "\n",
    "    def forward(self, x,adjs):\n",
    "#         firstHop_neighbor = adjs[-1][0]\n",
    "        # get node embedding from pre-trained model\n",
    "        embedding = self.gnn_encoder(x,adjs)\n",
    "        logit = self.clsLayer(embedding)\n",
    "        revenue = self.revLayer(embedding)\n",
    "        \n",
    "        return logit, revenue\n",
    "    \n",
    "    def compute_CLS_loss(self,logit, label):\n",
    "        logit = logit.flatten()\n",
    "        loss = self.loss_func(logit,label)\n",
    "        return loss\n",
    "    \n",
    "    def compute_REG_loss(self,pred_rev, rev):\n",
    "        pred_rev = pred_rev.flatten()\n",
    "        loss = F.mse_loss(pred_rev,rev)\n",
    "        return loss \n",
    "\n",
    "    def training_step(self, batch, batch_idx: int):\n",
    "        logits, revenues = self(batch.x, batch.adjs_t)\n",
    "        CLS_loss = self.compute_CLS_loss(logits, batch.y)  \n",
    "        REG_loss = self.compute_REG_loss(revenues, batch.rev)\n",
    "        train_loss = CLS_loss + 10 * REG_loss\n",
    "        self.log('train_loss', train_loss)\n",
    "        return train_loss\n",
    "    \n",
    "    def validation_step(self, batch, batch_idx: int):\n",
    "        logits, revenues = self(batch.x, batch.adjs_t)\n",
    "        CLS_loss = self.compute_CLS_loss(logits, batch.y)  \n",
    "        REG_loss = self.compute_REG_loss(revenues, batch.rev)\n",
    "        valid_loss = CLS_loss + 1 * REG_loss\n",
    "        self.log('val_loss', valid_loss, on_step=True, on_epoch=True, sync_dist=True)\n",
    "        return logits\n",
    "    \n",
    "    def validation_epoch_end(self, val_step_outputs):\n",
    "        predictions = torch.cat(val_step_outputs).detach().cpu().numpy().ravel()\n",
    "        f,pr, re, rev = torch_metrics(predictions, self.data.valid_cls_label, self.data.valid_reg_label)\n",
    "        f1_top = np.mean(f)\n",
    "        self.log(\"F1-top\",f1_top)\n",
    "        performance = [*f, *pr, *re, *rev]\n",
    "        name_performance = [\"F1@1\",\"F1@2\",\"F1@5\",\"F1@10\",\"Pr@1\",\"Pr@2\",\"Pr@5\",\"Pr@10\",\n",
    "                            \"Re@1\",\"Re@2\",\"Re@5\",\"Re@10\",\"Rev@1\",\"Rev@2\",\"Rev@5\",\"Rev@10\"]\n",
    "        name_performance = [\"Val/\"+i for i in name_performance]\n",
    "        tensorboard_logs = dict(zip(name_performance,performance))\n",
    "        return {\"Val/F1-top\":f1_top, \"log\":tensorboard_logs}\n",
    "        \n",
    "    def test_step(self,batch, batch_idx):\n",
    "        return self.validation_step(batch, batch_idx)\n",
    "    \n",
    "    def test_epoch_end(self,val_step_outputs):\n",
    "        predictions = torch.cat(val_step_outputs).detach().cpu().numpy().ravel()\n",
    "        f,pr, re, rev = torch_metrics(predictions, self.data.test_cls_label, self.data.test_reg_label)\n",
    "        f1_top = np.mean(f)\n",
    "        performance = [*f, *pr, *re, *rev]\n",
    "        name_performance = [\"F1@1\",\"F1@2\",\"F1@5\",\"F1@10\",\"Pr@1\",\"Pr@2\",\"Pr@5\",\"Pr@10\",\n",
    "                            \"Re@1\",\"Re@2\",\"Re@5\",\"Re@10\",\"Rev@1\",\"Rev@2\",\"Rev@5\",\"Rev@10\"]\n",
    "        name_performance = [\"Test/\"+i for i in name_performance]\n",
    "        tensorboard_logs = dict(zip(name_performance,performance))\n",
    "        \n",
    "        return {\"F1-top\":f1_top, \"log\":tensorboard_logs}\n",
    "\n",
    "    def configure_optimizers(self):\n",
    "        optimizer = RangerLars(self.parameters(), lr=0.05, weight_decay=0.0001)\n",
    "        scheduler = torch.optim.lr_scheduler.ExponentialLR(optimizer,gamma=0.99)\n",
    "        return [optimizer], [scheduler]"
   ]
  },
  {
   "cell_type": "code",
   "execution_count": 36,
   "metadata": {},
   "outputs": [
    {
     "name": "stderr",
     "output_type": "stream",
     "text": [
      "Global seed set to 5674\n",
      "GPU available: True, used: True\n",
      "TPU available: None, using: 0 TPU cores\n",
      "LOCAL_RANK: 0 - CUDA_VISIBLE_DEVICES: [0,1,2,3,4,5]\n",
      "\n",
      "  | Name        | Type              | Params\n",
      "--------------------------------------------------\n",
      "0 | gnn_encoder | PretrainGNN       | 106 K \n",
      "1 | clsLayer    | Linear            | 65    \n",
      "2 | revLayer    | Linear            | 65    \n",
      "3 | loss_func   | BCEWithLogitsLoss | 0     \n",
      "--------------------------------------------------\n",
      "107 K     Trainable params\n",
      "0         Non-trainable params\n",
      "107 K     Total params\n"
     ]
    },
    {
     "data": {
      "application/vnd.jupyter.widget-view+json": {
       "model_id": "3f57d1c946364b2db8477b846ae0b0f7",
       "version_major": 2,
       "version_minor": 0
      },
      "text/plain": [
       "HBox(children=(FloatProgress(value=1.0, bar_style='info', description='Training', layout=Layout(flex='2'), max…"
      ]
     },
     "metadata": {},
     "output_type": "display_data"
    },
    {
     "data": {
      "application/vnd.jupyter.widget-view+json": {
       "model_id": "",
       "version_major": 2,
       "version_minor": 0
      },
      "text/plain": [
       "HBox(children=(FloatProgress(value=1.0, bar_style='info', description='Validating', layout=Layout(flex='2'), m…"
      ]
     },
     "metadata": {},
     "output_type": "display_data"
    },
    {
     "name": "stdout",
     "output_type": "stream",
     "text": [
      "Checking top 1% suspicious transactions: 708\n",
      "Precision: 0.1201, Recall: 0.0349, Revenue: 0.0216\n",
      "Checking top 2% suspicious transactions: 1419\n",
      "Precision: 0.1043, Recall: 0.0608, Revenue: 0.0357\n",
      "Checking top 5% suspicious transactions: 3546\n",
      "Precision: 0.0778, Recall: 0.1133, Revenue: 0.0832\n",
      "Checking top 10% suspicious transactions: 7092\n",
      "Precision: 0.0515, Recall: 0.1499, Revenue: 0.2148\n"
     ]
    },
    {
     "data": {
      "application/vnd.jupyter.widget-view+json": {
       "model_id": "",
       "version_major": 2,
       "version_minor": 0
      },
      "text/plain": [
       "HBox(children=(FloatProgress(value=1.0, bar_style='info', description='Validating', layout=Layout(flex='2'), m…"
      ]
     },
     "metadata": {},
     "output_type": "display_data"
    },
    {
     "name": "stdout",
     "output_type": "stream",
     "text": [
      "Checking top 1% suspicious transactions: 710\n",
      "Precision: 0.1775, Recall: 0.0517, Revenue: 0.0212\n",
      "Checking top 2% suspicious transactions: 1419\n",
      "Precision: 0.1163, Recall: 0.0678, Revenue: 0.0404\n",
      "Checking top 5% suspicious transactions: 3546\n",
      "Precision: 0.0792, Recall: 0.1154, Revenue: 0.0966\n",
      "Checking top 10% suspicious transactions: 7082\n",
      "Precision: 0.0541, Recall: 0.1573, Revenue: 0.2201\n"
     ]
    },
    {
     "data": {
      "application/vnd.jupyter.widget-view+json": {
       "model_id": "",
       "version_major": 2,
       "version_minor": 0
      },
      "text/plain": [
       "HBox(children=(FloatProgress(value=1.0, bar_style='info', description='Validating', layout=Layout(flex='2'), m…"
      ]
     },
     "metadata": {},
     "output_type": "display_data"
    },
    {
     "name": "stdout",
     "output_type": "stream",
     "text": [
      "Checking top 1% suspicious transactions: 710\n",
      "Precision: 0.2225, Recall: 0.0649, Revenue: 0.0404\n",
      "Checking top 2% suspicious transactions: 1418\n",
      "Precision: 0.1396, Recall: 0.0813, Revenue: 0.0461\n",
      "Checking top 5% suspicious transactions: 3546\n",
      "Precision: 0.0818, Recall: 0.1191, Revenue: 0.0667\n",
      "Checking top 10% suspicious transactions: 7091\n",
      "Precision: 0.0518, Recall: 0.1507, Revenue: 0.1222\n"
     ]
    },
    {
     "data": {
      "application/vnd.jupyter.widget-view+json": {
       "model_id": "",
       "version_major": 2,
       "version_minor": 0
      },
      "text/plain": [
       "HBox(children=(FloatProgress(value=1.0, bar_style='info', description='Validating', layout=Layout(flex='2'), m…"
      ]
     },
     "metadata": {},
     "output_type": "display_data"
    },
    {
     "name": "stdout",
     "output_type": "stream",
     "text": [
      "Checking top 1% suspicious transactions: 710\n",
      "Precision: 0.2254, Recall: 0.0657, Revenue: 0.0422\n",
      "Checking top 2% suspicious transactions: 1418\n",
      "Precision: 0.1417, Recall: 0.0825, Revenue: 0.0465\n",
      "Checking top 5% suspicious transactions: 3546\n",
      "Precision: 0.0801, Recall: 0.1166, Revenue: 0.0806\n",
      "Checking top 10% suspicious transactions: 7092\n",
      "Precision: 0.0554, Recall: 0.1614, Revenue: 0.1420\n"
     ]
    },
    {
     "data": {
      "application/vnd.jupyter.widget-view+json": {
       "model_id": "",
       "version_major": 2,
       "version_minor": 0
      },
      "text/plain": [
       "HBox(children=(FloatProgress(value=1.0, bar_style='info', description='Validating', layout=Layout(flex='2'), m…"
      ]
     },
     "metadata": {},
     "output_type": "display_data"
    },
    {
     "name": "stdout",
     "output_type": "stream",
     "text": [
      "Checking top 1% suspicious transactions: 710\n",
      "Precision: 0.2296, Recall: 0.0669, Revenue: 0.0380\n",
      "Checking top 2% suspicious transactions: 1419\n",
      "Precision: 0.1452, Recall: 0.0846, Revenue: 0.0480\n",
      "Checking top 5% suspicious transactions: 3546\n",
      "Precision: 0.0792, Recall: 0.1154, Revenue: 0.0636\n",
      "Checking top 10% suspicious transactions: 7092\n",
      "Precision: 0.0495, Recall: 0.1441, Revenue: 0.1297\n"
     ]
    },
    {
     "data": {
      "application/vnd.jupyter.widget-view+json": {
       "model_id": "",
       "version_major": 2,
       "version_minor": 0
      },
      "text/plain": [
       "HBox(children=(FloatProgress(value=1.0, bar_style='info', description='Validating', layout=Layout(flex='2'), m…"
      ]
     },
     "metadata": {},
     "output_type": "display_data"
    },
    {
     "name": "stdout",
     "output_type": "stream",
     "text": [
      "Checking top 1% suspicious transactions: 709\n",
      "Precision: 0.2680, Recall: 0.0780, Revenue: 0.0436\n",
      "Checking top 2% suspicious transactions: 1419\n",
      "Precision: 0.1586, Recall: 0.0924, Revenue: 0.0513\n",
      "Checking top 5% suspicious transactions: 3546\n",
      "Precision: 0.0823, Recall: 0.1199, Revenue: 0.0658\n",
      "Checking top 10% suspicious transactions: 7092\n",
      "Precision: 0.0479, Recall: 0.1396, Revenue: 0.1010\n"
     ]
    },
    {
     "data": {
      "application/vnd.jupyter.widget-view+json": {
       "model_id": "",
       "version_major": 2,
       "version_minor": 0
      },
      "text/plain": [
       "HBox(children=(FloatProgress(value=1.0, bar_style='info', description='Validating', layout=Layout(flex='2'), m…"
      ]
     },
     "metadata": {},
     "output_type": "display_data"
    },
    {
     "name": "stdout",
     "output_type": "stream",
     "text": [
      "Checking top 1% suspicious transactions: 710\n",
      "Precision: 0.2606, Recall: 0.0760, Revenue: 0.0443\n",
      "Checking top 2% suspicious transactions: 1419\n",
      "Precision: 0.1607, Recall: 0.0936, Revenue: 0.0508\n",
      "Checking top 5% suspicious transactions: 3546\n",
      "Precision: 0.0801, Recall: 0.1166, Revenue: 0.0623\n",
      "Checking top 10% suspicious transactions: 7092\n",
      "Precision: 0.0568, Recall: 0.1655, Revenue: 0.1175\n"
     ]
    },
    {
     "data": {
      "application/vnd.jupyter.widget-view+json": {
       "model_id": "",
       "version_major": 2,
       "version_minor": 0
      },
      "text/plain": [
       "HBox(children=(FloatProgress(value=1.0, bar_style='info', description='Validating', layout=Layout(flex='2'), m…"
      ]
     },
     "metadata": {},
     "output_type": "display_data"
    },
    {
     "name": "stdout",
     "output_type": "stream",
     "text": [
      "Checking top 1% suspicious transactions: 710\n",
      "Precision: 0.2606, Recall: 0.0760, Revenue: 0.0421\n",
      "Checking top 2% suspicious transactions: 1419\n",
      "Precision: 0.1628, Recall: 0.0949, Revenue: 0.0572\n",
      "Checking top 5% suspicious transactions: 3546\n",
      "Precision: 0.0829, Recall: 0.1207, Revenue: 0.0823\n",
      "Checking top 10% suspicious transactions: 7092\n",
      "Precision: 0.0549, Recall: 0.1598, Revenue: 0.1353\n"
     ]
    },
    {
     "data": {
      "application/vnd.jupyter.widget-view+json": {
       "model_id": "",
       "version_major": 2,
       "version_minor": 0
      },
      "text/plain": [
       "HBox(children=(FloatProgress(value=1.0, bar_style='info', description='Validating', layout=Layout(flex='2'), m…"
      ]
     },
     "metadata": {},
     "output_type": "display_data"
    },
    {
     "name": "stdout",
     "output_type": "stream",
     "text": [
      "Checking top 1% suspicious transactions: 710\n",
      "Precision: 0.2549, Recall: 0.0743, Revenue: 0.0405\n",
      "Checking top 2% suspicious transactions: 1419\n",
      "Precision: 0.1543, Recall: 0.0899, Revenue: 0.0514\n",
      "Checking top 5% suspicious transactions: 3546\n",
      "Precision: 0.0795, Recall: 0.1158, Revenue: 0.0765\n",
      "Checking top 10% suspicious transactions: 7092\n",
      "Precision: 0.0501, Recall: 0.1458, Revenue: 0.1378\n"
     ]
    },
    {
     "data": {
      "application/vnd.jupyter.widget-view+json": {
       "model_id": "",
       "version_major": 2,
       "version_minor": 0
      },
      "text/plain": [
       "HBox(children=(FloatProgress(value=1.0, bar_style='info', description='Validating', layout=Layout(flex='2'), m…"
      ]
     },
     "metadata": {},
     "output_type": "display_data"
    },
    {
     "name": "stdout",
     "output_type": "stream",
     "text": [
      "Checking top 1% suspicious transactions: 710\n",
      "Precision: 0.2775, Recall: 0.0809, Revenue: 0.0429\n",
      "Checking top 2% suspicious transactions: 1419\n",
      "Precision: 0.1649, Recall: 0.0961, Revenue: 0.0665\n",
      "Checking top 5% suspicious transactions: 3545\n",
      "Precision: 0.0832, Recall: 0.1211, Revenue: 0.0960\n",
      "Checking top 10% suspicious transactions: 7092\n",
      "Precision: 0.0620, Recall: 0.1807, Revenue: 0.1550\n"
     ]
    },
    {
     "data": {
      "application/vnd.jupyter.widget-view+json": {
       "model_id": "",
       "version_major": 2,
       "version_minor": 0
      },
      "text/plain": [
       "HBox(children=(FloatProgress(value=1.0, bar_style='info', description='Validating', layout=Layout(flex='2'), m…"
      ]
     },
     "metadata": {},
     "output_type": "display_data"
    },
    {
     "name": "stdout",
     "output_type": "stream",
     "text": [
      "Checking top 1% suspicious transactions: 710\n",
      "Precision: 0.2606, Recall: 0.0760, Revenue: 0.0452\n",
      "Checking top 2% suspicious transactions: 1419\n",
      "Precision: 0.1642, Recall: 0.0957, Revenue: 0.0518\n",
      "Checking top 5% suspicious transactions: 3546\n",
      "Precision: 0.0795, Recall: 0.1158, Revenue: 0.0641\n",
      "Checking top 10% suspicious transactions: 7092\n",
      "Precision: 0.0543, Recall: 0.1581, Revenue: 0.1402\n"
     ]
    },
    {
     "data": {
      "application/vnd.jupyter.widget-view+json": {
       "model_id": "",
       "version_major": 2,
       "version_minor": 0
      },
      "text/plain": [
       "HBox(children=(FloatProgress(value=1.0, bar_style='info', description='Validating', layout=Layout(flex='2'), m…"
      ]
     },
     "metadata": {},
     "output_type": "display_data"
    },
    {
     "name": "stdout",
     "output_type": "stream",
     "text": [
      "Checking top 1% suspicious transactions: 710\n",
      "Precision: 0.2549, Recall: 0.0743, Revenue: 0.0460\n",
      "Checking top 2% suspicious transactions: 1419\n",
      "Precision: 0.1663, Recall: 0.0969, Revenue: 0.0557\n",
      "Checking top 5% suspicious transactions: 3546\n",
      "Precision: 0.0801, Recall: 0.1166, Revenue: 0.0708\n",
      "Checking top 10% suspicious transactions: 7092\n",
      "Precision: 0.0477, Recall: 0.1388, Revenue: 0.1154\n"
     ]
    },
    {
     "data": {
      "application/vnd.jupyter.widget-view+json": {
       "model_id": "",
       "version_major": 2,
       "version_minor": 0
      },
      "text/plain": [
       "HBox(children=(FloatProgress(value=1.0, bar_style='info', description='Validating', layout=Layout(flex='2'), m…"
      ]
     },
     "metadata": {},
     "output_type": "display_data"
    },
    {
     "name": "stdout",
     "output_type": "stream",
     "text": [
      "Checking top 1% suspicious transactions: 710\n",
      "Precision: 0.2831, Recall: 0.0825, Revenue: 0.0420\n",
      "Checking top 2% suspicious transactions: 1419\n",
      "Precision: 0.1705, Recall: 0.0994, Revenue: 0.0538\n",
      "Checking top 5% suspicious transactions: 3546\n",
      "Precision: 0.0821, Recall: 0.1195, Revenue: 0.0638\n",
      "Checking top 10% suspicious transactions: 7088\n",
      "Precision: 0.0542, Recall: 0.1577, Revenue: 0.1101\n"
     ]
    },
    {
     "data": {
      "application/vnd.jupyter.widget-view+json": {
       "model_id": "",
       "version_major": 2,
       "version_minor": 0
      },
      "text/plain": [
       "HBox(children=(FloatProgress(value=1.0, bar_style='info', description='Validating', layout=Layout(flex='2'), m…"
      ]
     },
     "metadata": {},
     "output_type": "display_data"
    },
    {
     "name": "stdout",
     "output_type": "stream",
     "text": [
      "Checking top 1% suspicious transactions: 710\n",
      "Precision: 0.2718, Recall: 0.0793, Revenue: 0.0419\n",
      "Checking top 2% suspicious transactions: 1419\n",
      "Precision: 0.1670, Recall: 0.0973, Revenue: 0.0553\n",
      "Checking top 5% suspicious transactions: 3545\n",
      "Precision: 0.0787, Recall: 0.1146, Revenue: 0.0612\n",
      "Checking top 10% suspicious transactions: 7092\n",
      "Precision: 0.0505, Recall: 0.1470, Revenue: 0.1179\n"
     ]
    },
    {
     "data": {
      "application/vnd.jupyter.widget-view+json": {
       "model_id": "",
       "version_major": 2,
       "version_minor": 0
      },
      "text/plain": [
       "HBox(children=(FloatProgress(value=1.0, bar_style='info', description='Validating', layout=Layout(flex='2'), m…"
      ]
     },
     "metadata": {},
     "output_type": "display_data"
    },
    {
     "name": "stdout",
     "output_type": "stream",
     "text": [
      "Checking top 1% suspicious transactions: 710\n",
      "Precision: 0.2690, Recall: 0.0784, Revenue: 0.0405\n",
      "Checking top 2% suspicious transactions: 1418\n",
      "Precision: 0.1650, Recall: 0.0961, Revenue: 0.0556\n",
      "Checking top 5% suspicious transactions: 3546\n",
      "Precision: 0.0807, Recall: 0.1175, Revenue: 0.0623\n",
      "Checking top 10% suspicious transactions: 7092\n",
      "Precision: 0.0527, Recall: 0.1536, Revenue: 0.1254\n"
     ]
    },
    {
     "data": {
      "application/vnd.jupyter.widget-view+json": {
       "model_id": "",
       "version_major": 2,
       "version_minor": 0
      },
      "text/plain": [
       "HBox(children=(FloatProgress(value=1.0, bar_style='info', description='Validating', layout=Layout(flex='2'), m…"
      ]
     },
     "metadata": {},
     "output_type": "display_data"
    },
    {
     "name": "stdout",
     "output_type": "stream",
     "text": [
      "Checking top 1% suspicious transactions: 710\n",
      "Precision: 0.2803, Recall: 0.0817, Revenue: 0.0448\n",
      "Checking top 2% suspicious transactions: 1419\n",
      "Precision: 0.1691, Recall: 0.0986, Revenue: 0.0533\n",
      "Checking top 5% suspicious transactions: 3546\n",
      "Precision: 0.0812, Recall: 0.1183, Revenue: 0.0642\n",
      "Checking top 10% suspicious transactions: 7092\n",
      "Precision: 0.0682, Recall: 0.1988, Revenue: 0.1494\n"
     ]
    },
    {
     "data": {
      "application/vnd.jupyter.widget-view+json": {
       "model_id": "",
       "version_major": 2,
       "version_minor": 0
      },
      "text/plain": [
       "HBox(children=(FloatProgress(value=1.0, bar_style='info', description='Validating', layout=Layout(flex='2'), m…"
      ]
     },
     "metadata": {},
     "output_type": "display_data"
    },
    {
     "name": "stdout",
     "output_type": "stream",
     "text": [
      "Checking top 1% suspicious transactions: 710\n",
      "Precision: 0.2746, Recall: 0.0801, Revenue: 0.0402\n",
      "Checking top 2% suspicious transactions: 1419\n",
      "Precision: 0.1691, Recall: 0.0986, Revenue: 0.0527\n",
      "Checking top 5% suspicious transactions: 3546\n",
      "Precision: 0.0973, Recall: 0.1417, Revenue: 0.0683\n",
      "Checking top 10% suspicious transactions: 7091\n",
      "Precision: 0.0910, Recall: 0.2649, Revenue: 0.1809\n"
     ]
    },
    {
     "data": {
      "application/vnd.jupyter.widget-view+json": {
       "model_id": "",
       "version_major": 2,
       "version_minor": 0
      },
      "text/plain": [
       "HBox(children=(FloatProgress(value=1.0, bar_style='info', description='Validating', layout=Layout(flex='2'), m…"
      ]
     },
     "metadata": {},
     "output_type": "display_data"
    },
    {
     "name": "stdout",
     "output_type": "stream",
     "text": [
      "Checking top 1% suspicious transactions: 706\n",
      "Precision: 0.2904, Recall: 0.0842, Revenue: 0.0461\n",
      "Checking top 2% suspicious transactions: 1419\n",
      "Precision: 0.1720, Recall: 0.1002, Revenue: 0.0578\n",
      "Checking top 5% suspicious transactions: 3546\n",
      "Precision: 0.0846, Recall: 0.1232, Revenue: 0.0706\n",
      "Checking top 10% suspicious transactions: 7092\n",
      "Precision: 0.0589, Recall: 0.1717, Revenue: 0.1364\n"
     ]
    },
    {
     "data": {
      "application/vnd.jupyter.widget-view+json": {
       "model_id": "",
       "version_major": 2,
       "version_minor": 0
      },
      "text/plain": [
       "HBox(children=(FloatProgress(value=1.0, bar_style='info', description='Validating', layout=Layout(flex='2'), m…"
      ]
     },
     "metadata": {},
     "output_type": "display_data"
    },
    {
     "name": "stdout",
     "output_type": "stream",
     "text": [
      "Checking top 1% suspicious transactions: 710\n",
      "Precision: 0.2873, Recall: 0.0838, Revenue: 0.0411\n",
      "Checking top 2% suspicious transactions: 1419\n",
      "Precision: 0.1698, Recall: 0.0990, Revenue: 0.0568\n",
      "Checking top 5% suspicious transactions: 3546\n",
      "Precision: 0.0795, Recall: 0.1158, Revenue: 0.0680\n",
      "Checking top 10% suspicious transactions: 7092\n",
      "Precision: 0.0530, Recall: 0.1544, Revenue: 0.1141\n"
     ]
    },
    {
     "data": {
      "application/vnd.jupyter.widget-view+json": {
       "model_id": "",
       "version_major": 2,
       "version_minor": 0
      },
      "text/plain": [
       "HBox(children=(FloatProgress(value=1.0, bar_style='info', description='Validating', layout=Layout(flex='2'), m…"
      ]
     },
     "metadata": {},
     "output_type": "display_data"
    },
    {
     "name": "stdout",
     "output_type": "stream",
     "text": [
      "Checking top 1% suspicious transactions: 710\n",
      "Precision: 0.2915, Recall: 0.0850, Revenue: 0.0405\n",
      "Checking top 2% suspicious transactions: 1419\n",
      "Precision: 0.1670, Recall: 0.0973, Revenue: 0.0530\n",
      "Checking top 5% suspicious transactions: 3546\n",
      "Precision: 0.0821, Recall: 0.1195, Revenue: 0.0633\n",
      "Checking top 10% suspicious transactions: 7092\n",
      "Precision: 0.0561, Recall: 0.1634, Revenue: 0.1459\n"
     ]
    },
    {
     "data": {
      "application/vnd.jupyter.widget-view+json": {
       "model_id": "",
       "version_major": 2,
       "version_minor": 0
      },
      "text/plain": [
       "HBox(children=(FloatProgress(value=1.0, bar_style='info', description='Validating', layout=Layout(flex='2'), m…"
      ]
     },
     "metadata": {},
     "output_type": "display_data"
    },
    {
     "name": "stdout",
     "output_type": "stream",
     "text": [
      "Checking top 1% suspicious transactions: 710\n",
      "Precision: 0.2887, Recall: 0.0842, Revenue: 0.0433\n",
      "Checking top 2% suspicious transactions: 1419\n",
      "Precision: 0.1741, Recall: 0.1014, Revenue: 0.0580\n",
      "Checking top 5% suspicious transactions: 3546\n",
      "Precision: 0.0826, Recall: 0.1203, Revenue: 0.0672\n",
      "Checking top 10% suspicious transactions: 7092\n",
      "Precision: 0.0639, Recall: 0.1860, Revenue: 0.1574\n"
     ]
    },
    {
     "data": {
      "application/vnd.jupyter.widget-view+json": {
       "model_id": "",
       "version_major": 2,
       "version_minor": 0
      },
      "text/plain": [
       "HBox(children=(FloatProgress(value=1.0, bar_style='info', description='Validating', layout=Layout(flex='2'), m…"
      ]
     },
     "metadata": {},
     "output_type": "display_data"
    },
    {
     "name": "stdout",
     "output_type": "stream",
     "text": [
      "Checking top 1% suspicious transactions: 710\n",
      "Precision: 0.2732, Recall: 0.0797, Revenue: 0.0428\n",
      "Checking top 2% suspicious transactions: 1419\n",
      "Precision: 0.1741, Recall: 0.1014, Revenue: 0.0517\n",
      "Checking top 5% suspicious transactions: 3546\n",
      "Precision: 0.0849, Recall: 0.1236, Revenue: 0.0782\n",
      "Checking top 10% suspicious transactions: 7092\n",
      "Precision: 0.0553, Recall: 0.1610, Revenue: 0.1521\n"
     ]
    },
    {
     "data": {
      "application/vnd.jupyter.widget-view+json": {
       "model_id": "",
       "version_major": 2,
       "version_minor": 0
      },
      "text/plain": [
       "HBox(children=(FloatProgress(value=1.0, bar_style='info', description='Validating', layout=Layout(flex='2'), m…"
      ]
     },
     "metadata": {},
     "output_type": "display_data"
    },
    {
     "name": "stdout",
     "output_type": "stream",
     "text": [
      "Checking top 1% suspicious transactions: 710\n",
      "Precision: 0.2915, Recall: 0.0850, Revenue: 0.0429\n",
      "Checking top 2% suspicious transactions: 1419\n",
      "Precision: 0.1705, Recall: 0.0994, Revenue: 0.0520\n",
      "Checking top 5% suspicious transactions: 3546\n",
      "Precision: 0.0840, Recall: 0.1224, Revenue: 0.0645\n",
      "Checking top 10% suspicious transactions: 7092\n",
      "Precision: 0.0671, Recall: 0.1955, Revenue: 0.1603\n"
     ]
    },
    {
     "data": {
      "application/vnd.jupyter.widget-view+json": {
       "model_id": "",
       "version_major": 2,
       "version_minor": 0
      },
      "text/plain": [
       "HBox(children=(FloatProgress(value=1.0, bar_style='info', description='Validating', layout=Layout(flex='2'), m…"
      ]
     },
     "metadata": {},
     "output_type": "display_data"
    },
    {
     "name": "stdout",
     "output_type": "stream",
     "text": [
      "Checking top 1% suspicious transactions: 710\n",
      "Precision: 0.2845, Recall: 0.0830, Revenue: 0.0451\n",
      "Checking top 2% suspicious transactions: 1419\n",
      "Precision: 0.1677, Recall: 0.0977, Revenue: 0.0556\n",
      "Checking top 5% suspicious transactions: 3546\n",
      "Precision: 0.0854, Recall: 0.1244, Revenue: 0.0663\n",
      "Checking top 10% suspicious transactions: 7092\n",
      "Precision: 0.0650, Recall: 0.1893, Revenue: 0.1485\n"
     ]
    },
    {
     "data": {
      "application/vnd.jupyter.widget-view+json": {
       "model_id": "",
       "version_major": 2,
       "version_minor": 0
      },
      "text/plain": [
       "HBox(children=(FloatProgress(value=1.0, bar_style='info', description='Validating', layout=Layout(flex='2'), m…"
      ]
     },
     "metadata": {},
     "output_type": "display_data"
    },
    {
     "name": "stdout",
     "output_type": "stream",
     "text": [
      "Checking top 1% suspicious transactions: 709\n",
      "Precision: 0.2906, Recall: 0.0846, Revenue: 0.0424\n",
      "Checking top 2% suspicious transactions: 1419\n",
      "Precision: 0.1684, Recall: 0.0982, Revenue: 0.0568\n",
      "Checking top 5% suspicious transactions: 3545\n",
      "Precision: 0.0812, Recall: 0.1183, Revenue: 0.0638\n",
      "Checking top 10% suspicious transactions: 7092\n",
      "Precision: 0.0804, Recall: 0.2341, Revenue: 0.1805\n"
     ]
    },
    {
     "data": {
      "application/vnd.jupyter.widget-view+json": {
       "model_id": "",
       "version_major": 2,
       "version_minor": 0
      },
      "text/plain": [
       "HBox(children=(FloatProgress(value=1.0, bar_style='info', description='Validating', layout=Layout(flex='2'), m…"
      ]
     },
     "metadata": {},
     "output_type": "display_data"
    },
    {
     "name": "stdout",
     "output_type": "stream",
     "text": [
      "Checking top 1% suspicious transactions: 710\n",
      "Precision: 0.2859, Recall: 0.0834, Revenue: 0.0431\n",
      "Checking top 2% suspicious transactions: 1419\n",
      "Precision: 0.1720, Recall: 0.1002, Revenue: 0.0568\n",
      "Checking top 5% suspicious transactions: 3546\n",
      "Precision: 0.0826, Recall: 0.1203, Revenue: 0.0656\n",
      "Checking top 10% suspicious transactions: 7089\n",
      "Precision: 0.0698, Recall: 0.2033, Revenue: 0.1613\n"
     ]
    },
    {
     "data": {
      "application/vnd.jupyter.widget-view+json": {
       "model_id": "",
       "version_major": 2,
       "version_minor": 0
      },
      "text/plain": [
       "HBox(children=(FloatProgress(value=1.0, bar_style='info', description='Validating', layout=Layout(flex='2'), m…"
      ]
     },
     "metadata": {},
     "output_type": "display_data"
    },
    {
     "name": "stdout",
     "output_type": "stream",
     "text": [
      "Checking top 1% suspicious transactions: 710\n",
      "Precision: 0.2859, Recall: 0.0834, Revenue: 0.0417\n",
      "Checking top 2% suspicious transactions: 1419\n",
      "Precision: 0.1705, Recall: 0.0994, Revenue: 0.0570\n",
      "Checking top 5% suspicious transactions: 3539\n",
      "Precision: 0.0825, Recall: 0.1199, Revenue: 0.0665\n",
      "Checking top 10% suspicious transactions: 7092\n",
      "Precision: 0.0774, Recall: 0.2255, Revenue: 0.1816\n"
     ]
    },
    {
     "data": {
      "application/vnd.jupyter.widget-view+json": {
       "model_id": "",
       "version_major": 2,
       "version_minor": 0
      },
      "text/plain": [
       "HBox(children=(FloatProgress(value=1.0, bar_style='info', description='Validating', layout=Layout(flex='2'), m…"
      ]
     },
     "metadata": {},
     "output_type": "display_data"
    },
    {
     "name": "stdout",
     "output_type": "stream",
     "text": [
      "Checking top 1% suspicious transactions: 710\n",
      "Precision: 0.2972, Recall: 0.0867, Revenue: 0.0441\n",
      "Checking top 2% suspicious transactions: 1419\n",
      "Precision: 0.1734, Recall: 0.1010, Revenue: 0.0570\n",
      "Checking top 5% suspicious transactions: 3546\n",
      "Precision: 0.0863, Recall: 0.1257, Revenue: 0.0876\n",
      "Checking top 10% suspicious transactions: 7092\n",
      "Precision: 0.0774, Recall: 0.2255, Revenue: 0.1671\n"
     ]
    },
    {
     "data": {
      "application/vnd.jupyter.widget-view+json": {
       "model_id": "",
       "version_major": 2,
       "version_minor": 0
      },
      "text/plain": [
       "HBox(children=(FloatProgress(value=1.0, bar_style='info', description='Validating', layout=Layout(flex='2'), m…"
      ]
     },
     "metadata": {},
     "output_type": "display_data"
    },
    {
     "name": "stdout",
     "output_type": "stream",
     "text": [
      "Checking top 1% suspicious transactions: 710\n",
      "Precision: 0.2915, Recall: 0.0850, Revenue: 0.0432\n",
      "Checking top 2% suspicious transactions: 1419\n",
      "Precision: 0.1755, Recall: 0.1023, Revenue: 0.0579\n",
      "Checking top 5% suspicious transactions: 3546\n",
      "Precision: 0.1094, Recall: 0.1593, Revenue: 0.1059\n",
      "Checking top 10% suspicious transactions: 7092\n",
      "Precision: 0.1189, Recall: 0.3462, Revenue: 0.2320\n"
     ]
    },
    {
     "data": {
      "application/vnd.jupyter.widget-view+json": {
       "model_id": "",
       "version_major": 2,
       "version_minor": 0
      },
      "text/plain": [
       "HBox(children=(FloatProgress(value=1.0, bar_style='info', description='Validating', layout=Layout(flex='2'), m…"
      ]
     },
     "metadata": {},
     "output_type": "display_data"
    },
    {
     "name": "stdout",
     "output_type": "stream",
     "text": [
      "Checking top 1% suspicious transactions: 710\n",
      "Precision: 0.2901, Recall: 0.0846, Revenue: 0.0439\n",
      "Checking top 2% suspicious transactions: 1419\n",
      "Precision: 0.1720, Recall: 0.1002, Revenue: 0.0572\n",
      "Checking top 5% suspicious transactions: 3546\n",
      "Precision: 0.0959, Recall: 0.1396, Revenue: 0.0911\n",
      "Checking top 10% suspicious transactions: 7092\n",
      "Precision: 0.0808, Recall: 0.2353, Revenue: 0.1789\n"
     ]
    },
    {
     "data": {
      "application/vnd.jupyter.widget-view+json": {
       "model_id": "",
       "version_major": 2,
       "version_minor": 0
      },
      "text/plain": [
       "HBox(children=(FloatProgress(value=1.0, bar_style='info', description='Validating', layout=Layout(flex='2'), m…"
      ]
     },
     "metadata": {},
     "output_type": "display_data"
    },
    {
     "name": "stdout",
     "output_type": "stream",
     "text": [
      "Checking top 1% suspicious transactions: 710\n",
      "Precision: 0.2944, Recall: 0.0858, Revenue: 0.0437\n",
      "Checking top 2% suspicious transactions: 1419\n",
      "Precision: 0.1741, Recall: 0.1014, Revenue: 0.0574\n",
      "Checking top 5% suspicious transactions: 3541\n",
      "Precision: 0.0844, Recall: 0.1228, Revenue: 0.0679\n",
      "Checking top 10% suspicious transactions: 7083\n",
      "Precision: 0.0664, Recall: 0.1930, Revenue: 0.1512\n"
     ]
    },
    {
     "data": {
      "application/vnd.jupyter.widget-view+json": {
       "model_id": "",
       "version_major": 2,
       "version_minor": 0
      },
      "text/plain": [
       "HBox(children=(FloatProgress(value=1.0, bar_style='info', description='Validating', layout=Layout(flex='2'), m…"
      ]
     },
     "metadata": {},
     "output_type": "display_data"
    },
    {
     "name": "stdout",
     "output_type": "stream",
     "text": [
      "Checking top 1% suspicious transactions: 710\n",
      "Precision: 0.3085, Recall: 0.0899, Revenue: 0.0439\n",
      "Checking top 2% suspicious transactions: 1419\n",
      "Precision: 0.1741, Recall: 0.1014, Revenue: 0.0565\n",
      "Checking top 5% suspicious transactions: 3546\n",
      "Precision: 0.0857, Recall: 0.1248, Revenue: 0.0678\n",
      "Checking top 10% suspicious transactions: 7092\n",
      "Precision: 0.0774, Recall: 0.2255, Revenue: 0.1533\n"
     ]
    },
    {
     "data": {
      "application/vnd.jupyter.widget-view+json": {
       "model_id": "",
       "version_major": 2,
       "version_minor": 0
      },
      "text/plain": [
       "HBox(children=(FloatProgress(value=1.0, bar_style='info', description='Validating', layout=Layout(flex='2'), m…"
      ]
     },
     "metadata": {},
     "output_type": "display_data"
    },
    {
     "name": "stdout",
     "output_type": "stream",
     "text": [
      "Checking top 1% suspicious transactions: 710\n",
      "Precision: 0.2901, Recall: 0.0846, Revenue: 0.0422\n",
      "Checking top 2% suspicious transactions: 1419\n",
      "Precision: 0.1734, Recall: 0.1010, Revenue: 0.0568\n",
      "Checking top 5% suspicious transactions: 3546\n",
      "Precision: 0.0829, Recall: 0.1207, Revenue: 0.0679\n",
      "Checking top 10% suspicious transactions: 7092\n",
      "Precision: 0.0678, Recall: 0.1975, Revenue: 0.1555\n"
     ]
    },
    {
     "data": {
      "application/vnd.jupyter.widget-view+json": {
       "model_id": "",
       "version_major": 2,
       "version_minor": 0
      },
      "text/plain": [
       "HBox(children=(FloatProgress(value=1.0, bar_style='info', description='Validating', layout=Layout(flex='2'), m…"
      ]
     },
     "metadata": {},
     "output_type": "display_data"
    },
    {
     "name": "stdout",
     "output_type": "stream",
     "text": [
      "Checking top 1% suspicious transactions: 710\n",
      "Precision: 0.2887, Recall: 0.0842, Revenue: 0.0459\n",
      "Checking top 2% suspicious transactions: 1419\n",
      "Precision: 0.1720, Recall: 0.1002, Revenue: 0.0578\n",
      "Checking top 5% suspicious transactions: 3546\n",
      "Precision: 0.0956, Recall: 0.1392, Revenue: 0.0924\n",
      "Checking top 10% suspicious transactions: 7092\n",
      "Precision: 0.0997, Recall: 0.2903, Revenue: 0.2265\n"
     ]
    },
    {
     "data": {
      "application/vnd.jupyter.widget-view+json": {
       "model_id": "",
       "version_major": 2,
       "version_minor": 0
      },
      "text/plain": [
       "HBox(children=(FloatProgress(value=1.0, bar_style='info', description='Validating', layout=Layout(flex='2'), m…"
      ]
     },
     "metadata": {},
     "output_type": "display_data"
    },
    {
     "name": "stdout",
     "output_type": "stream",
     "text": [
      "Checking top 1% suspicious transactions: 708\n",
      "Precision: 0.2924, Recall: 0.0850, Revenue: 0.0474\n",
      "Checking top 2% suspicious transactions: 1418\n",
      "Precision: 0.1777, Recall: 0.1035, Revenue: 0.0579\n",
      "Checking top 5% suspicious transactions: 3546\n",
      "Precision: 0.0956, Recall: 0.1392, Revenue: 0.1011\n",
      "Checking top 10% suspicious transactions: 7092\n",
      "Precision: 0.1003, Recall: 0.2920, Revenue: 0.2060\n"
     ]
    },
    {
     "data": {
      "application/vnd.jupyter.widget-view+json": {
       "model_id": "",
       "version_major": 2,
       "version_minor": 0
      },
      "text/plain": [
       "HBox(children=(FloatProgress(value=1.0, bar_style='info', description='Validating', layout=Layout(flex='2'), m…"
      ]
     },
     "metadata": {},
     "output_type": "display_data"
    },
    {
     "name": "stdout",
     "output_type": "stream",
     "text": [
      "Checking top 1% suspicious transactions: 710\n",
      "Precision: 0.3042, Recall: 0.0887, Revenue: 0.0447\n",
      "Checking top 2% suspicious transactions: 1419\n",
      "Precision: 0.1776, Recall: 0.1035, Revenue: 0.0582\n",
      "Checking top 5% suspicious transactions: 3546\n",
      "Precision: 0.1111, Recall: 0.1618, Revenue: 0.0949\n",
      "Checking top 10% suspicious transactions: 7091\n",
      "Precision: 0.1104, Recall: 0.3216, Revenue: 0.2064\n"
     ]
    },
    {
     "data": {
      "application/vnd.jupyter.widget-view+json": {
       "model_id": "",
       "version_major": 2,
       "version_minor": 0
      },
      "text/plain": [
       "HBox(children=(FloatProgress(value=1.0, bar_style='info', description='Validating', layout=Layout(flex='2'), m…"
      ]
     },
     "metadata": {},
     "output_type": "display_data"
    },
    {
     "name": "stdout",
     "output_type": "stream",
     "text": [
      "Checking top 1% suspicious transactions: 710\n",
      "Precision: 0.2944, Recall: 0.0858, Revenue: 0.0537\n",
      "Checking top 2% suspicious transactions: 1419\n",
      "Precision: 0.1727, Recall: 0.1006, Revenue: 0.0579\n",
      "Checking top 5% suspicious transactions: 3546\n",
      "Precision: 0.1058, Recall: 0.1540, Revenue: 0.1062\n",
      "Checking top 10% suspicious transactions: 7092\n",
      "Precision: 0.0933, Recall: 0.2719, Revenue: 0.1960\n"
     ]
    },
    {
     "data": {
      "application/vnd.jupyter.widget-view+json": {
       "model_id": "",
       "version_major": 2,
       "version_minor": 0
      },
      "text/plain": [
       "HBox(children=(FloatProgress(value=1.0, bar_style='info', description='Validating', layout=Layout(flex='2'), m…"
      ]
     },
     "metadata": {},
     "output_type": "display_data"
    },
    {
     "name": "stdout",
     "output_type": "stream",
     "text": [
      "Checking top 1% suspicious transactions: 710\n",
      "Precision: 0.3014, Recall: 0.0879, Revenue: 0.0428\n",
      "Checking top 2% suspicious transactions: 1419\n",
      "Precision: 0.1720, Recall: 0.1002, Revenue: 0.0579\n",
      "Checking top 5% suspicious transactions: 3546\n",
      "Precision: 0.0914, Recall: 0.1331, Revenue: 0.0880\n",
      "Checking top 10% suspicious transactions: 7092\n",
      "Precision: 0.0883, Recall: 0.2571, Revenue: 0.1913\n"
     ]
    },
    {
     "data": {
      "application/vnd.jupyter.widget-view+json": {
       "model_id": "",
       "version_major": 2,
       "version_minor": 0
      },
      "text/plain": [
       "HBox(children=(FloatProgress(value=1.0, bar_style='info', description='Validating', layout=Layout(flex='2'), m…"
      ]
     },
     "metadata": {},
     "output_type": "display_data"
    },
    {
     "name": "stdout",
     "output_type": "stream",
     "text": [
      "Checking top 1% suspicious transactions: 710\n",
      "Precision: 0.2958, Recall: 0.0862, Revenue: 0.0473\n",
      "Checking top 2% suspicious transactions: 1419\n",
      "Precision: 0.1783, Recall: 0.1039, Revenue: 0.0574\n",
      "Checking top 5% suspicious transactions: 3546\n",
      "Precision: 0.1038, Recall: 0.1511, Revenue: 0.0804\n",
      "Checking top 10% suspicious transactions: 7092\n",
      "Precision: 0.0938, Recall: 0.2731, Revenue: 0.1810\n"
     ]
    },
    {
     "data": {
      "application/vnd.jupyter.widget-view+json": {
       "model_id": "",
       "version_major": 2,
       "version_minor": 0
      },
      "text/plain": [
       "HBox(children=(FloatProgress(value=1.0, bar_style='info', description='Validating', layout=Layout(flex='2'), m…"
      ]
     },
     "metadata": {},
     "output_type": "display_data"
    },
    {
     "name": "stdout",
     "output_type": "stream",
     "text": [
      "Checking top 1% suspicious transactions: 710\n",
      "Precision: 0.3042, Recall: 0.0887, Revenue: 0.0489\n",
      "Checking top 2% suspicious transactions: 1418\n",
      "Precision: 0.1791, Recall: 0.1043, Revenue: 0.0576\n",
      "Checking top 5% suspicious transactions: 3546\n",
      "Precision: 0.0987, Recall: 0.1437, Revenue: 0.0909\n",
      "Checking top 10% suspicious transactions: 7092\n",
      "Precision: 0.0877, Recall: 0.2554, Revenue: 0.1858\n",
      "\n"
     ]
    },
    {
     "data": {
      "text/plain": [
       "1"
      ]
     },
     "execution_count": 36,
     "metadata": {},
     "output_type": "execute_result"
    }
   ],
   "source": [
    "# model config\n",
    "seed_everything(5674)\n",
    "input_dim = gdata.leaf_dim\n",
    "hidden_size = 32\n",
    "sizes = [-1,200]\n",
    "numLayers = len(sizes)\n",
    "batch_size = 512\n",
    "pretrain_path = \"./saved_model/pretrained.ckpt\"\n",
    "\n",
    "predictor = Predictor(input_dim, hidden_size, numLayers)\n",
    "predictor.loadGNN_state(model)\n",
    "# predictor.load_fromPretrain(pretrain_path)\n",
    "predictor.data = data\n",
    "\n",
    "# lightning config\n",
    "stacked_data = StackData(trainLab_data,unlab_data,valid_data, test_data)\n",
    "datamodule = CustomData(stacked_data, sizes = sizes, batch_size=batch_size)\n",
    "logger = TensorBoardLogger(\"ssl_exp\",name=\"Tdata\")\n",
    "logger.log_hyperparams(model.hparams, metrics={\"F1-top\":0})\n",
    "checkpoint_callback = ModelCheckpoint(\n",
    "    monitor='F1-top',    \n",
    "    dirpath='./saved_model',\n",
    "    filename='Analysis-Tdata5-{F1-top:.4f}',\n",
    "    save_top_k=1,\n",
    "    mode='max',\n",
    ")\n",
    "trainer = Trainer(gpus=[1], max_epochs=40,\n",
    "                 num_sanity_val_steps=0,\n",
    "                  check_val_every_n_epoch=1,\n",
    "                  callbacks=[checkpoint_callback],\n",
    "                 )\n",
    "trainer.fit(predictor, datamodule=datamodule)"
   ]
  },
  {
   "cell_type": "code",
   "execution_count": 37,
   "metadata": {
    "scrolled": true
   },
   "outputs": [
    {
     "data": {
      "application/vnd.jupyter.widget-view+json": {
       "model_id": "74a9e817c30a40b994b2bd024d48f880",
       "version_major": 2,
       "version_minor": 0
      },
      "text/plain": [
       "HBox(children=(FloatProgress(value=1.0, bar_style='info', description='Testing', layout=Layout(flex='2'), max=…"
      ]
     },
     "metadata": {},
     "output_type": "display_data"
    },
    {
     "name": "stdout",
     "output_type": "stream",
     "text": [
      "Checking top 1% suspicious transactions: 2749\n",
      "Precision: 0.1648, Recall: 0.0666, Revenue: 0.0945\n",
      "Checking top 2% suspicious transactions: 5497\n",
      "Precision: 0.1128, Recall: 0.0912, Revenue: 0.1302\n",
      "Checking top 5% suspicious transactions: 13741\n",
      "Precision: 0.1095, Recall: 0.2214, Revenue: 0.2474\n",
      "Checking top 10% suspicious transactions: 27479\n",
      "Precision: 0.1170, Recall: 0.4729, Revenue: 0.4114\n",
      "\n",
      "--------------------------------------------------------------------------------\n",
      "DATALOADER:0 TEST RESULTS\n",
      "{'F1-top': 0.13246628519247977,\n",
      " 'Test/F1@1': 0.09490886235072281,\n",
      " 'Test/F1@10': 0.18753646866612209,\n",
      " 'Test/F1@2': 0.10086220920774362,\n",
      " 'Test/F1@5': 0.14655760054533062,\n",
      " 'Test/Pr@1': 0.16478719534376138,\n",
      " 'Test/Pr@10': 0.11696204374249426,\n",
      " 'Test/Pr@2': 0.11278879388757504,\n",
      " 'Test/Pr@5': 0.10952623535404993,\n",
      " 'Test/Re@1': 0.06664705016919228,\n",
      " 'Test/Re@10': 0.4728556716198323,\n",
      " 'Test/Re@2': 0.09121671325584817,\n",
      " 'Test/Re@5': 0.22142121524201855,\n",
      " 'Test/Rev@1': 0.09453650021569975,\n",
      " 'Test/Rev@10': 0.41143432461167456,\n",
      " 'Test/Rev@2': 0.13015026098892682,\n",
      " 'Test/Rev@5': 0.2473522112718454,\n",
      " 'val_loss': 2.7595224380493164,\n",
      " 'val_loss_epoch': 3.207803726196289}\n",
      "--------------------------------------------------------------------------------\n"
     ]
    },
    {
     "data": {
      "text/plain": [
       "[{'Test/F1@1': 0.09490886235072281,\n",
       "  'Test/F1@2': 0.10086220920774362,\n",
       "  'Test/F1@5': 0.14655760054533062,\n",
       "  'Test/F1@10': 0.18753646866612209,\n",
       "  'Test/Pr@1': 0.16478719534376138,\n",
       "  'Test/Pr@2': 0.11278879388757504,\n",
       "  'Test/Pr@5': 0.10952623535404993,\n",
       "  'Test/Pr@10': 0.11696204374249426,\n",
       "  'Test/Re@1': 0.06664705016919228,\n",
       "  'Test/Re@2': 0.09121671325584817,\n",
       "  'Test/Re@5': 0.22142121524201855,\n",
       "  'Test/Re@10': 0.4728556716198323,\n",
       "  'Test/Rev@1': 0.09453650021569975,\n",
       "  'Test/Rev@2': 0.13015026098892682,\n",
       "  'Test/Rev@5': 0.2473522112718454,\n",
       "  'Test/Rev@10': 0.41143432461167456,\n",
       "  'F1-top': 0.13246628519247977,\n",
       "  'val_loss_epoch': 3.207803726196289,\n",
       "  'val_loss': 2.7595224380493164}]"
      ]
     },
     "execution_count": 37,
     "metadata": {},
     "output_type": "execute_result"
    }
   ],
   "source": [
    "trainer.test()"
   ]
  },
  {
   "cell_type": "code",
   "execution_count": null,
   "metadata": {},
   "outputs": [],
   "source": [
    " "
   ]
  }
 ],
 "metadata": {
  "kernelspec": {
   "display_name": "mlrl",
   "language": "python",
   "name": "mlrl"
  },
  "language_info": {
   "codemirror_mode": {
    "name": "ipython",
    "version": 3
   },
   "file_extension": ".py",
   "mimetype": "text/x-python",
   "name": "python",
   "nbconvert_exporter": "python",
   "pygments_lexer": "ipython3",
   "version": "3.6.9"
  }
 },
 "nbformat": 4,
 "nbformat_minor": 4
}
